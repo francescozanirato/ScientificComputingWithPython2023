{
 "cells": [
  {
   "cell_type": "markdown",
   "metadata": {},
   "source": [
    "# Linear Algebra"
   ]
  },
  {
   "cell_type": "markdown",
   "metadata": {},
   "source": [
    "## Scipy\n",
    "\n",
    "In this lecture, we will start to explore some practical problems that can be solved by applying algorithms to some data. Python provides several libraries to perform complex scientific and technical operations, and [SciPy](https://scipy.github.io/devdocs/index.html) is one of the most complete available libraries.\n",
    "\n",
    "SciPy contains modules for optimization, linear algebra, integration, interpolation, special functions, FFT, signal and image processing, ODE solvers and other tasks common in science and engineering.\n",
    "\n",
    "Available sub-packages include:\n",
    "\n",
    "- `constants`: physical constants and conversion factors\n",
    "- `linalg`: linear algebra routines (today)\n",
    "- `optimize`: optimization algorithms including linear programming (next lecture)\n",
    "- `interpolate`: interpolation tools (next lecture)\n",
    "- `stats`: statistical functions (next lectures)\n",
    "- `integrate`: numerical integration routines (next lecture)\n",
    "- `fft`: Discrete Fourier Transform algorithms (next lectures)\n",
    "- `fftpack`: Legacy interface for Discrete Fourier Transforms (next lectures)\n",
    "- `sparse`: sparse matrices and related algorithms\n",
    "- and many others\n",
    "\n",
    "The `scipy` is the core package for scientific routines in Python; it is meant to operate efficiently on Numpy arrays, so that Numpy and `scipy` work hand in hand.\n",
    "\n",
    "In this noteboook, we will review a few examples and applications. Sometimes Numpy implements those methods too: if a given algorithm is present both in Numpy and Scipy, typically the latter is more performant."
   ]
  },
  {
   "cell_type": "code",
   "execution_count": 2,
   "metadata": {},
   "outputs": [],
   "source": [
    "import numpy as np\n",
    "from scipy import linalg as la\n",
    "from matplotlib import pyplot as plt"
   ]
  },
  {
   "cell_type": "markdown",
   "metadata": {},
   "source": [
    "## Matrix operations\n",
    "\n",
    "Remember that two vectors may have two very different products:\n",
    " - The [inner product](https://numpy.org/doc/stable/reference/generated/numpy.inner.html), expressed as $v^T w$ (with $v$ and $w$ that are column vectors), is the product of a $1 \\times n$ vector with an $n \\times 1$ vector, and the result of the inner product is a **scalar**.\n",
    " - The [outer product](https://numpy.org/doc/stable/reference/generated/numpy.outer.html) of two vectors is given by:\n",
    "$$\n",
    "v\\otimes w = vw^T\n",
    "$$\n",
    "and the result of the outer product is a **matrix**."
   ]
  },
  {
   "cell_type": "code",
   "execution_count": 3,
   "metadata": {},
   "outputs": [
    {
     "name": "stdout",
     "output_type": "stream",
     "text": [
      "Norm: 2.23606797749979\n",
      "Distance: 1.0\n",
      "Dot prod: 3\n",
      "Inner prod: 3\n",
      "Outer prod:\n",
      " [[1 1]\n",
      " [2 2]]\n"
     ]
    }
   ],
   "source": [
    "# norm of a vector\n",
    "v = np.array([1, 2])\n",
    "print(\"Norm:\", la.norm(v))\n",
    "\n",
    "# distance between two vectors, represented by numpy arrays\n",
    "w = np.array([1, 1])\n",
    "print(\"Distance:\", la.norm(v - w))\n",
    "\n",
    "# inner product\n",
    "print(\"Dot prod:\", v.dot(w))\n",
    "\n",
    "# inner product\n",
    "print(\"Inner prod:\", np.inner(v, w)) # with 1D arrays, np.dot and np.inner are equivalent\n",
    "\n",
    "# outer product\n",
    "print(\"Outer prod:\\n\", np.outer(v, w))"
   ]
  },
  {
   "cell_type": "markdown",
   "metadata": {},
   "source": [
    "Of course, `scipy` also offers optimized methods to calculate the trace of a matrix (the sum of the diagonal elements in a square matrix):"
   ]
  },
  {
   "cell_type": "code",
   "execution_count": 4,
   "metadata": {},
   "outputs": [
    {
     "name": "stdout",
     "output_type": "stream",
     "text": [
      "[[76 42 28 15 33 81]\n",
      " [37 60 55 83 46 85]\n",
      " [76  8 60 52 43 57]\n",
      " [63 61 20 74 93 16]\n",
      " [85 42 93 68 30 96]\n",
      " [93  9 13 56 63 25]] \n",
      "\n",
      "Trace:\n",
      " 325 \n",
      "\n"
     ]
    }
   ],
   "source": [
    "M = np.random.randint(100, size=(6, 6))\n",
    "print(M, '\\n')\n",
    "print(\"Trace:\\n\", M.trace(), '\\n')"
   ]
  },
  {
   "cell_type": "markdown",
   "metadata": {},
   "source": [
    "... the determinant:"
   ]
  },
  {
   "cell_type": "code",
   "execution_count": 5,
   "metadata": {},
   "outputs": [
    {
     "name": "stdout",
     "output_type": "stream",
     "text": [
      "Determinant:\n",
      " -26855684540.999992 \n",
      "\n"
     ]
    }
   ],
   "source": [
    "print(\"Determinant:\\n\", la.det(M), '\\n')"
   ]
  },
  {
   "cell_type": "markdown",
   "metadata": {},
   "source": [
    "...and the inverse (if exists):"
   ]
  },
  {
   "cell_type": "code",
   "execution_count": 6,
   "metadata": {},
   "outputs": [
    {
     "name": "stdout",
     "output_type": "stream",
     "text": [
      "Inverse of M:\n",
      " [[ 0.00040601 -0.01187486 -0.02261225 -0.00151998  0.01945781  0.01686977]\n",
      " [ 0.00272927 -0.00843432 -0.03249941  0.01152219  0.02278856 -0.00094972]\n",
      " [-0.00465783 -0.01353542  0.01965662  0.01165521  0.00806653 -0.02214012]\n",
      " [-0.01584245  0.01405853 -0.02215459 -0.01011946  0.00963977  0.02350274]\n",
      " [ 0.00961984  0.00244603  0.04726249  0.01174695 -0.03395261 -0.0243833 ]\n",
      " [ 0.01117426  0.01659414  0.01612071 -0.0114891  -0.02081402 -0.00210103]] \n",
      "\n"
     ]
    }
   ],
   "source": [
    "print(\"Inverse of M:\\n\", la.inv(M), '\\n')"
   ]
  },
  {
   "cell_type": "markdown",
   "metadata": {},
   "source": [
    "#### Example: calculate the covariance matrix with the outer product\n",
    "\n",
    "As a first practical example for matrix operations, we want to calculate the [covariance matrix](https://en.wikipedia.org/wiki/Covariance_matrix) from a given data set.\n",
    "\n",
    "Suppose we have $n$ measurements (rows) and $p$ variables (columns). The dataset would be a matrix $V$, which  is therefore a $n \\times p$ matrix. If all the variables (columns) have **zero mean**, the covariance matrix can be evaluated as:\n",
    "\n",
    "$$C = \\frac{V^T V}{n-1}$$\n",
    "\n",
    "This is a multiplication of a $p \\times n$ matrix ($V^T$), and a $n \\times p$ matrix ($V$), which results in a $p \\times p$ matrix."
   ]
  },
  {
   "cell_type": "code",
   "execution_count": 7,
   "metadata": {},
   "outputs": [
    {
     "name": "stdout",
     "output_type": "stream",
     "text": [
      "[[0.86767119 0.63542954 0.51046049 0.74100878]\n",
      " [0.80166061 0.98835626 0.25458812 0.68688613]\n",
      " [0.0905888  0.41342597 0.92254862 0.66957438]\n",
      " [0.50575547 0.67195527 0.79777136 0.34623841]\n",
      " [0.71869662 0.44317074 0.78061906 0.03867979]\n",
      " [0.46004608 0.52594372 0.50891974 0.95416633]\n",
      " [0.26064108 0.43102043 0.00149189 0.33989237]\n",
      " [0.56842115 0.57872883 0.99864955 0.33687018]\n",
      " [0.19701198 0.50215791 0.90055099 0.15663471]\n",
      " [0.50902818 0.25078759 0.916456   0.36293033]]\n"
     ]
    }
   ],
   "source": [
    "# generate 4 sequences of 10 random numbers (flat between 0 and 1)\n",
    "n, p = 10, 4\n",
    "v = np.random.random((n, p))\n",
    "print(v) # 10 x 4 matrix"
   ]
  },
  {
   "cell_type": "code",
   "execution_count": 10,
   "metadata": {},
   "outputs": [
    {
     "name": "stdout",
     "output_type": "stream",
     "text": [
      "Mean for each column:\n",
      " [0.49795212 0.54409763 0.65920558 0.46328814] \n",
      "\n",
      "Centered matrix:\n",
      " [[ 0.36971907  0.09133192 -0.14874509  0.27772064]\n",
      " [ 0.30370849  0.44425863 -0.40461747  0.22359799]\n",
      " [-0.40736332 -0.13067165  0.26334304  0.20628624]\n",
      " [ 0.00780336  0.12785764  0.13856578 -0.11704973]\n",
      " [ 0.22074451 -0.10092689  0.12141348 -0.42460835]\n",
      " [-0.03790604 -0.01815391 -0.15028584  0.49087819]\n",
      " [-0.23731104 -0.1130772  -0.65771369 -0.12339577]\n",
      " [ 0.07046904  0.03463121  0.33944397 -0.12641796]\n",
      " [-0.30094014 -0.04193972  0.2413454  -0.30665343]\n",
      " [ 0.01107606 -0.29331004  0.25725042 -0.10035781]] \n",
      "\n",
      "Covariance matrix:\n",
      " [[ 0.06634132  0.02666416 -0.01570608  0.00942784]\n",
      " [ 0.02666416  0.0390468  -0.0243343   0.01873265]\n",
      " [-0.01570608 -0.0243343   0.10932804 -0.03117563]\n",
      " [ 0.00942784  0.01873265 -0.03117563  0.08221657]] \n",
      "\n",
      "Covariance matrix with Numpy:\n",
      " [[ 0.06634132  0.02666416 -0.01570608  0.00942784]\n",
      " [ 0.02666416  0.0390468  -0.0243343   0.01873265]\n",
      " [-0.01570608 -0.0243343   0.10932804 -0.03117563]\n",
      " [ 0.00942784  0.01873265 -0.03117563  0.08221657]] \n",
      "\n",
      "Are they the same? True\n"
     ]
    }
   ],
   "source": [
    "# compute the mean of each sequence (row) with a numpy reduction\n",
    "v_mean = np.mean(v, axis=0)\n",
    "print(\"Mean for each column:\\n\", v_mean, '\\n')\n",
    "\n",
    "# re-center each sequence (column) around its mean\n",
    "w = v - v_mean  #BROADCASTING  OPERATION! DO YOU REMEMBER? \n",
    "print(\"Centered matrix:\\n\", w, '\\n')\n",
    "\n",
    "# compute the covariance matrix\n",
    "cov = (w.T).dot(w) / (n - 1)\n",
    "print(\"Covariance matrix:\\n\", cov, '\\n')\n",
    "\n",
    "# The covariance matrix can be calculated directly from numpy\n",
    "np_cov = np.cov(v, rowvar=False) #THE VARIABLES ARE COLUMNS!!!\n",
    "# remember to specify rowvar=False is you want to use this notation!\n",
    "print(\"Covariance matrix with Numpy:\\n\", np_cov, '\\n')\n",
    "\n",
    "print(\"Are they the same?\", np.allclose(cov, np_cov))   #NEVER COMPARE MATRIX WITH THE OPERATOR \"==\" !!!!!!!"
   ]
  },
  {
   "cell_type": "markdown",
   "metadata": {},
   "source": [
    "## Linear systems\n",
    "\n",
    "In several cases, some computational problems can be reduced to solving linear systems.\n",
    "If you are dealing with a problem that can be expressed with a linear systems of the type:\n",
    "\n",
    "$$A x = b$$\n",
    "\n",
    "Of course, $A$ needs to be a **square** matrix.\n",
    "\n",
    "`scipy` provides a `solve()` [method](https://docs.scipy.org/doc/scipy/reference/generated/scipy.linalg.solve.html) for solving it.\n",
    "\n",
    "Still, knowing a little bit what are the algorithms underneath comes handy sometimes, e.g. the solve method can be instructed about what kind of matrix $A$ is likely to be (symmetric, hermitian, positive definite, etc.)"
   ]
  },
  {
   "cell_type": "code",
   "execution_count": 9,
   "metadata": {},
   "outputs": [
    {
     "name": "stdout",
     "output_type": "stream",
     "text": [
      "A:\n",
      " [[ 3  2  0]\n",
      " [ 1 -1  0]\n",
      " [ 0  5  1]] \n",
      "\n",
      "b:\n",
      " [ 2  4 -1] \n",
      "\n"
     ]
    }
   ],
   "source": [
    "A = np.array([[3, 2, 0], [1, -1, 0], [0, 5, 1]])\n",
    "b = np.array([2, 4, -1])\n",
    "print(\"A:\\n\", A, '\\n')\n",
    "print(\"b:\\n\", b, '\\n')"
   ]
  },
  {
   "cell_type": "code",
   "execution_count": 11,
   "metadata": {},
   "outputs": [
    {
     "name": "stdout",
     "output_type": "stream",
     "text": [
      "x: [ 2. -2.  9.] \n",
      "\n",
      "Ax: [ 2.  4. -1.] \n",
      "\n",
      "Is Ax == b? True\n"
     ]
    }
   ],
   "source": [
    "# Let Scipy find the x solutions\n",
    "x = la.solve(A, b)\n",
    "print(\"x:\", x, '\\n')\n",
    "print(\"Ax:\", np.dot(A, x), '\\n')\n",
    "print(\"Is Ax == b?\", np.allclose(np.dot(A, x), b)) # note: do not use == with floats"
   ]
  },
  {
   "cell_type": "markdown",
   "metadata": {},
   "source": [
    "## Matrix Decomposition\n",
    "\n",
    "Unfortunately, if the amount of input data is large, solving linear systems by inverting the matrix can quickly become unpractical from the computational point of view:"
   ]
  },
  {
   "cell_type": "code",
   "execution_count": 12,
   "metadata": {},
   "outputs": [
    {
     "name": "stdout",
     "output_type": "stream",
     "text": [
      "x: [ 2.47220662e-01 -1.09491606e+00 -4.34986790e+00  2.03018156e+01\n",
      " -1.08476304e+01  1.83228750e+01 -1.69191336e+01 -1.35419139e+00\n",
      "  1.05491636e+01  3.68027417e+00  8.48325754e+00 -4.56157313e+00\n",
      " -3.84013802e+00  2.19651981e+00  5.40748719e+00 -3.60094012e-01\n",
      " -4.28499977e+00 -1.51923421e+01 -5.87439696e+00  6.14960877e+00\n",
      "  8.70578778e+00  9.16378465e+00  4.41658949e+00  1.21342502e+00\n",
      " -1.05975946e+00 -4.00647809e+00  2.35097665e-01 -1.11253965e+01\n",
      " -1.53467649e+00 -2.67687065e+01  1.41224616e+00  4.42446845e+00\n",
      "  5.90916423e+00 -1.90763174e+00  8.53473807e+00  1.66590780e+01\n",
      "  6.12336770e+00 -1.01385616e+01  1.06491981e+01 -1.39654821e+01\n",
      "  5.89837602e+00 -6.88981025e+00  1.84404809e+00  2.33597561e+00\n",
      "  1.71738326e+01  3.44895789e-01  6.65738936e+00  4.05442151e+00\n",
      "  3.11936069e+00  1.71215083e+01 -9.25229504e-01  3.95831561e+00\n",
      " -3.11477441e+00 -6.47339610e-01 -3.64620740e+00  7.23245878e+00\n",
      "  1.38769553e+01 -1.71980061e+01  2.53712964e+00 -1.31662169e+01\n",
      " -9.15763891e-01 -1.11727629e+01  9.29015587e-01 -1.25025279e+01\n",
      " -1.03621331e+01 -1.32789882e+01  5.89289005e+00  2.23983982e+01\n",
      "  1.59617907e+01 -2.85212282e-01 -1.90073264e+01  6.35881211e+00\n",
      " -5.30531441e+00 -5.60866067e+00 -1.50272377e+01 -8.61782563e+00\n",
      " -7.42955594e-01 -1.45644003e+01 -5.31429752e+00 -4.66510674e+00\n",
      " -9.14432078e+00  2.39343947e+00 -1.07034646e+01 -2.12995409e+01\n",
      " -2.11043968e+01  1.13586683e-01 -1.84918522e+01 -2.62014487e+00\n",
      " -1.41347491e+01 -2.87412696e+00  1.55337654e+01  2.11241389e+00\n",
      " -9.04936153e-01  2.46583181e+00 -1.06974111e+00 -1.40868069e+00\n",
      " -1.39643333e+01 -8.63450468e+00 -7.07475186e+00 -1.07462970e-01\n",
      " -2.21234048e+00  5.26707220e+00  7.94255549e+00 -8.56508085e-02\n",
      " -7.71484001e+00  6.05415937e+00 -1.79975488e+01 -1.28760247e+01\n",
      " -1.47006124e+01 -7.27295160e+00 -7.60849951e+00  1.58520303e+01\n",
      "  1.68281670e-01 -1.84651402e+00 -1.95995433e+01  1.47803073e+00\n",
      " -1.09197826e+01  1.35711345e+00  9.33570923e+00  2.07126529e+01\n",
      " -3.49075521e+00  2.59497027e+00  7.44404392e+00 -6.72683866e-01\n",
      "  1.81010302e+00 -2.09340248e+01 -7.73617756e+00 -8.98624289e+00\n",
      " -5.42755484e+00  5.65531423e-01 -1.68004375e+00 -3.36802719e+00\n",
      "  2.44206043e-01 -9.00817013e-01  5.18659266e+00  1.12001545e+01\n",
      "  1.30401838e+01  1.29763923e+00 -6.35656385e+00 -5.99932889e+00\n",
      " -1.40534474e+01 -7.82590635e+00  9.29078299e+00  8.42706348e+00\n",
      " -1.63066100e+01  3.28088747e+00  1.60033926e+00  1.35114074e+01\n",
      " -4.36783816e+00  7.71283924e+00 -3.92468529e+00  6.31533567e+00\n",
      " -1.61493197e+01 -1.86600705e+01  2.64909552e+00  1.60678917e+01\n",
      "  2.20429645e+01 -1.17461717e+01  6.84142249e+00  1.57327864e+01\n",
      " -2.39403996e+00 -1.16829397e+01 -2.32954097e+00  1.17733675e+01\n",
      "  7.40360986e+00  7.78659074e+00  5.48951439e+00 -2.01433550e+01\n",
      " -7.02092163e+00  5.75682653e+00 -1.33522007e+01 -3.16034072e+00\n",
      "  2.75390805e+00 -4.78782799e+00 -9.39242877e-01 -1.77079118e+01\n",
      "  3.59209778e+00 -8.20859894e+00 -5.73126361e+00  1.57425671e+01\n",
      " -3.64157382e+00  2.02031953e+00  1.22967273e+01  7.70980872e+00\n",
      " -1.24385366e+01 -4.23591000e+00 -1.70075571e+01 -5.17171339e+00\n",
      "  5.36489953e+00  3.74324067e+00  1.34303569e+01  2.54283125e+01\n",
      " -1.96994036e+00 -2.44912599e+00 -7.87124824e+00 -4.56427731e+00\n",
      "  5.84160821e+00  1.81448837e+01 -1.65004581e+01  8.92492692e+00\n",
      "  9.24664720e+00 -1.03388556e+01 -2.80578340e+00 -4.57629353e+00\n",
      " -2.08517645e+01 -1.37247077e+00  7.99765485e-01  1.76334588e+00\n",
      "  3.89510578e+00  3.13584957e+00 -7.00486362e+00 -7.37736029e+00\n",
      "  1.61138345e+01  5.11039467e+00 -9.92584528e+00 -9.23250747e+00\n",
      " -1.65422036e+00  5.23756856e+00  1.85044176e+00 -1.02889872e-01\n",
      "  5.73639635e+00 -1.84829560e+00 -2.06761058e+00 -8.52443692e+00\n",
      "  5.52252924e+00 -7.60589693e-03  1.22657265e+01 -3.22103949e+00\n",
      "  1.45673445e+01 -1.53964308e+00  1.32015902e+01 -1.41070462e+01\n",
      "  1.35850780e+00  5.34607040e+00  3.88575307e-01  5.51455369e+00\n",
      "  2.25940884e+00 -1.95226926e+00  5.08998966e+00 -9.63884431e-01\n",
      " -3.20712521e+00 -9.56169037e+00  2.68846247e+00  6.59631383e+00\n",
      "  9.15327284e+00  1.11161271e+01  1.04208782e+00  1.81050037e+01\n",
      " -1.76588013e+00 -2.37974656e+00  1.52564264e+00 -8.76359208e+00\n",
      " -9.81691482e+00  9.80018448e+00  1.02039099e+01  3.90584835e+00\n",
      " -7.54683538e+00  1.04651704e+01  1.01429287e+01  2.86498450e+00\n",
      "  1.34667739e+01  1.93823803e+00  1.15618541e+01  7.12604986e+00\n",
      "  5.93106141e+00  3.49259249e+00 -1.24341149e+01 -1.99084513e+00\n",
      " -4.88790083e+00  2.30639104e-01  2.59458393e+00 -6.04356455e+00\n",
      "  1.60789333e+01 -7.79419407e+00  3.86509395e+00  2.86574221e+00\n",
      "  1.67448138e+00 -9.82570620e+00  9.20141357e+00 -6.02453761e+00\n",
      "  1.79021984e+01  9.67862083e+00 -7.69021773e+00  7.00054437e+00\n",
      " -4.85098048e+00  1.48502890e+01 -8.20708535e+00 -5.41343214e+00\n",
      " -1.16281995e+01  1.03537714e+01  1.06456706e+01 -1.41763922e+00\n",
      "  3.23634563e+00  1.91711498e+00  1.22272225e+00 -3.45601071e+00\n",
      "  5.39044565e+00 -1.05446108e+00 -3.09126488e+00 -1.56631294e+01\n",
      " -4.83346276e+00  2.35673860e+00 -1.51179521e+01 -3.14152656e+00\n",
      " -1.17281891e+01 -3.42109994e+00  8.57416610e+00  1.47580681e+01\n",
      "  7.46265168e+00  3.08876312e+00 -1.59049244e+01  2.92670537e+00\n",
      " -1.30701047e-01  8.06200776e+00  1.16068191e+01  9.26230059e-01\n",
      "  6.90081320e+00 -7.17850970e+00  1.54832315e+01  4.18673564e+00\n",
      "  1.32998001e+01 -1.42160384e+01  3.09256493e+00 -5.44470111e+00\n",
      "  1.44945579e+01  9.19950282e+00  4.83801938e+00  1.96790188e+01\n",
      " -7.37464921e+00 -1.05360081e+01  8.97104882e+00  1.55530767e+01\n",
      " -3.81883657e+00 -7.01816698e+00  8.17141709e+00 -5.58225872e+00\n",
      " -2.21924627e+00  1.50764050e+01  2.53763320e+00  2.06491200e+00\n",
      " -1.05220972e+01  9.89084280e+00 -1.39265503e+01  2.97167627e+00\n",
      " -1.70623497e+00  5.93840230e+00 -3.24002295e+00  5.08346182e-01\n",
      "  4.42412013e+00 -1.12192499e+01 -7.67833253e+00  1.86318743e+01\n",
      "  2.46022199e+01 -2.65082477e+00  9.81884626e+00  3.01581730e+00\n",
      " -1.01375576e+01  2.29104196e+01  1.04524887e+00  8.34341975e+00\n",
      " -1.93494662e+00  7.15054582e+00 -1.07449593e+01 -1.14054762e+01\n",
      "  1.15790754e+00  5.76690158e-01 -6.98107095e+00 -4.68990370e+00\n",
      "  3.20831444e+00  2.58836739e+00  6.77083055e+00  1.71751156e+00\n",
      "  1.43590875e+01  3.56608491e+00 -2.44626315e-01 -6.19337506e+00\n",
      "  1.23012035e+01 -1.84567763e+01 -1.06687801e+01  9.91589870e+00\n",
      "  1.33045071e+01  5.01144185e+00  6.80761759e+00 -1.27138370e+01\n",
      " -2.63503575e+00 -1.26681746e+00  1.94912597e+01  9.30281845e+00\n",
      " -3.04862146e+00  3.76866470e+00 -5.07680788e+00  7.33172685e+00\n",
      "  1.39062891e+01  7.21482230e+00  2.77037940e+01 -3.14636772e+00\n",
      "  8.24322927e+00 -1.45200288e+01 -1.51570848e+01  9.96007683e+00\n",
      "  1.38153373e+01  1.03833364e+01 -5.48078672e+00 -1.27290640e+01\n",
      " -5.77991567e+00  9.21793048e+00 -1.16740331e+01  2.51067668e+00\n",
      "  8.79689833e+00 -1.43876840e-02  4.62534702e+00  1.06274165e+00\n",
      "  1.66606421e+00  5.23428648e+00 -6.45780793e+00  1.39184459e+01\n",
      " -6.96893190e+00 -1.09614425e+00  2.02260718e+00 -2.07916972e+01\n",
      "  1.12576527e+01  8.77976458e+00  2.16126190e+01 -2.37896070e+00\n",
      " -7.26116210e+00  7.02231075e+00 -1.45434160e+01  5.33401354e+00\n",
      "  2.03615153e+00 -8.58431807e+00  1.72267044e+01 -7.09313101e+00\n",
      " -7.62164789e+00 -1.60919700e+01 -8.93132391e+00 -4.11226304e+00\n",
      " -3.43725348e+00 -1.32774161e+00 -8.96318532e+00  2.02638028e+00\n",
      "  1.47528333e-01 -4.08352974e+00  1.25123640e+01  4.66062333e+00\n",
      " -1.58791173e+01 -4.40387017e+00  1.05926220e+01  9.61102958e-01\n",
      " -1.56531034e+01 -7.15820896e+00 -8.15053694e+00  3.22058590e+00\n",
      " -5.00150650e+00  2.49774259e+00 -3.18999797e+00  2.55750808e+00\n",
      " -4.47850778e+00 -9.89466408e+00 -1.83723291e+00  5.80014282e+00\n",
      " -6.49172502e-03 -1.26395253e-01 -3.95129586e+00  5.94181143e+00\n",
      "  1.00295229e-01 -2.07566896e+00  1.32961377e+01  1.55450279e+00\n",
      "  1.65928709e+01 -2.72236370e+00 -2.85337091e+00 -1.09743713e+01\n",
      "  2.00861255e+01 -4.37898135e+00 -1.48930185e+01  1.02227422e+01\n",
      "  1.12536884e+01  2.27478332e+00 -8.25298188e+00  2.79749429e+00\n",
      "  4.78481321e+00  3.63424570e+00  1.21917946e+01  8.07511775e+00\n",
      "  1.65075406e+00  1.61939754e+00 -2.71836787e+01 -4.29431995e+00\n",
      " -1.88689325e+01  1.93793650e+00 -8.76568457e+00 -1.33500496e+01\n",
      "  1.16922839e+01 -4.96211961e+00 -9.41112566e-01  9.03016824e+00\n",
      "  6.53068181e+00  6.01129905e+00  6.10209612e-01 -3.61843243e+00\n",
      " -9.25354805e+00  1.35735485e+01 -4.99095612e+00 -6.29765763e-01\n",
      "  1.17093847e+00 -5.84081489e+00 -3.78604212e+00  1.36713368e+01\n",
      " -5.42711026e+00  7.65605206e+00 -9.61478073e+00 -1.50047388e+01\n",
      " -2.17732733e+01  1.86481213e+01  1.17136207e+01 -5.70565857e+00\n",
      "  8.48060592e+00  9.85846953e+00  1.00422625e+01 -6.28027118e+00\n",
      " -8.91795758e-01 -5.82934867e+00  5.65715596e-01  1.13541891e+01\n",
      "  5.54754144e+00  8.78331203e+00  8.53736529e-01  1.57402793e+01\n",
      " -1.01643102e+01 -1.96527796e+01  1.02899855e+01  4.23338432e+00\n",
      " -9.46310823e+00  1.41584191e+01 -1.04132518e+00 -8.26359991e+00\n",
      "  1.01423188e+00 -2.29569673e+00  2.18998470e+00 -1.62236722e+01\n",
      "  4.23011372e+00 -8.50981735e+00 -1.55600558e+01 -1.12746728e+01\n",
      " -1.69079942e+00  2.14122806e+01  2.72038314e+00  6.99981588e+00\n",
      "  2.71149704e+01  4.70976122e+00  5.96156950e+00  2.96090488e-01\n",
      "  1.93749070e+01 -2.30322747e+01  4.25769555e+00 -2.83095452e+00\n",
      "  1.41844801e+00  1.22290139e+01  4.82079348e+00 -3.34187375e+00\n",
      "  1.16761456e+01 -7.57236007e+00  1.34689820e+01 -1.76403743e+01\n",
      " -9.96101504e+00  1.49362679e+01  1.26879460e+01 -7.25830418e+00\n",
      " -3.65745948e+00 -1.36853159e+01 -9.25354242e+00  4.38495710e+00\n",
      "  1.08113431e+01  9.90683645e+00  1.91846526e+01  1.39575215e+01\n",
      " -1.80689114e+01 -1.52785612e+01  9.30528095e+00  1.70911878e+01\n",
      " -2.28956337e+01 -1.25679794e+01 -1.26321418e+01 -2.72245081e+01\n",
      " -6.15218288e+00 -7.31127666e+00 -6.22265598e+00  3.30500638e+00\n",
      " -5.90039448e-01 -1.11534374e+01  9.45979058e+00  2.37132415e-01\n",
      " -6.30809065e+00  1.15068561e+00  5.99649182e+00 -7.83289474e+00\n",
      "  2.49703269e+00 -7.11230221e+00  1.19154207e+01  5.22909591e+00\n",
      " -7.49048145e+00  1.01813075e+00 -1.37229908e+00  3.10582118e+00\n",
      "  3.31076194e+00 -1.76602616e+01 -3.61905014e+00 -7.48917652e+00\n",
      "  1.35152245e+01 -1.30674791e+01 -5.48593521e+00 -1.91762622e+01\n",
      " -1.36715057e+01 -1.39161057e+01 -1.23473723e+00  1.42942716e+01\n",
      " -1.37375674e+00 -4.04228461e+00 -5.29955231e+00 -5.95937263e+00\n",
      "  1.23029953e+00 -5.33174270e+00 -2.05286743e-01  1.60574746e+00\n",
      " -1.82540930e+01  1.31225619e+00 -2.17357496e+00 -2.32814285e+01\n",
      "  1.02564291e+01 -1.05419712e+01  1.63138394e+00  3.94749068e+00\n",
      "  7.16096625e+00 -1.25994988e+01  2.08954544e+01 -8.74157023e+00\n",
      " -7.38803278e+00  1.26419566e+01 -5.25884235e+00  1.91951944e+00\n",
      " -6.84212905e-01  8.83891192e+00  8.77656241e-01  7.90746671e+00\n",
      " -1.39991385e+01  1.75254562e+01 -6.57899023e-01  1.67091796e+00\n",
      "  9.27014753e+00  9.14356394e+00  3.98031928e-03 -4.97427638e+00\n",
      "  1.81241731e+01 -2.00782413e+01  9.96176297e+00  6.86453470e+00\n",
      "  2.89933448e+00 -1.47791954e+01  4.72322760e+00  2.43218030e+01\n",
      "  7.94448910e+00  1.91024327e+01  1.24342001e+01  9.43274951e+00\n",
      "  9.86214785e+00 -1.30461426e+01 -5.62016935e+00  7.76407560e+00\n",
      "  1.91287788e+00  2.97704209e+00  1.31886479e+00  1.00101684e+01\n",
      "  9.17798424e+00 -5.14279273e+00 -3.90665558e+00 -1.45679938e+00\n",
      "  1.61802827e+00  1.01241606e+01 -8.05754482e-01 -8.63932309e+00\n",
      " -6.81953542e+00  6.71444646e+00 -1.85920070e+00  1.60706510e+01\n",
      " -1.67516885e+01  1.64898221e+00  3.14158012e+00 -7.41093433e+00\n",
      "  1.63721736e+01 -5.98401958e+00 -5.47540180e-01 -6.80965022e+00\n",
      " -1.66531296e+01  2.83287817e+00  5.63582585e-01  3.03749252e+00\n",
      " -5.35040937e-01 -7.55453773e-01  1.45937745e+01 -2.16649098e+00\n",
      " -3.40462169e+01 -3.35400320e+00 -2.11291171e+01 -1.25669301e+01\n",
      " -9.25247656e+00 -1.69640631e+00  7.98409997e-01 -1.20129062e+00\n",
      "  3.71709352e+00  5.51481916e+00 -3.09738924e+00 -5.13833374e+00\n",
      " -1.03377995e+01  7.52177688e-01 -1.65190937e+01  4.91478520e+00\n",
      " -2.29337559e+01  2.32040903e+01 -1.34005665e+01 -1.42737846e+01\n",
      " -3.57709506e+00 -2.03807749e+01  1.50050977e+00  7.58822984e+00\n",
      "  5.93847734e+00 -6.25417840e+00 -5.89044658e+00 -1.46182656e+00\n",
      " -3.07084326e+00  6.09619524e+00  2.00755551e+01  5.63986916e+00\n",
      "  1.69954074e+01  8.31275893e+00 -4.60238779e+00 -1.07915306e+01\n",
      "  3.53714015e-01  1.66405797e+01  2.12985891e+01  7.12872097e+00\n",
      "  1.61596880e+01 -8.58480673e+00 -4.22509200e+00 -1.28717756e+01\n",
      " -4.51148205e+00  9.19743391e+00  4.57345131e+00  2.75113625e+00\n",
      "  4.74355347e+00 -1.08021180e+00 -3.82581928e+00 -1.61972750e+00\n",
      "  7.87467587e+00  1.85513755e+00 -6.03542565e+00  1.10535920e+01\n",
      "  4.56676743e+00 -1.08148057e+01 -6.86681807e+00 -3.37895333e+00\n",
      "  7.05732961e+00 -2.41334709e+01  5.58531883e+00  4.51597498e+00\n",
      "  2.74762058e+00  1.32472320e+01 -1.52567442e+00 -1.26627212e+00\n",
      " -2.13352273e+00 -8.22093527e+00 -2.54399170e+01 -2.79183110e+00\n",
      " -5.73147797e+00 -1.78172385e+01  1.23898006e+00  1.91890475e+01\n",
      "  4.69846779e+00  8.68526071e+00  5.16783723e+00  3.70666127e+00\n",
      " -5.17361931e+00  9.59506026e+00 -1.07792449e+01 -2.53487099e+00\n",
      "  9.31634916e+00 -8.51050860e+00  7.21183982e+00 -2.35013408e+01\n",
      " -4.91244793e+00  4.11409450e+00  1.16391095e+01 -1.41500849e+01\n",
      " -3.35354910e+00  2.63819775e+00 -7.04340692e+00  9.65029268e+00\n",
      "  2.92467654e+00 -2.12697439e+01 -6.29592168e+00  1.05172137e+01\n",
      " -1.55028478e+00 -1.70918761e+01  2.44997120e-01 -1.28114145e+01\n",
      " -3.20214072e+00 -1.30181917e+00  1.47099188e+01 -5.80197293e+00\n",
      " -2.86148893e+00  9.57383407e-01 -3.80522103e+00  1.27877689e+01\n",
      "  3.54352297e+00  1.43361747e+01 -7.01282287e+00  1.47424834e+01\n",
      "  2.51748060e+01 -1.11664124e+01  1.18768803e+01  1.50976483e+01\n",
      "  9.87251424e+00  6.64858884e+00 -1.18366369e+00 -1.02414209e+01\n",
      "  4.60097856e+00 -8.61119145e+00 -6.22632741e+00 -5.81574675e+00\n",
      " -6.05988192e+00  1.03270927e+01 -1.17432847e+01 -4.97601772e-01\n",
      " -4.22513322e+00  1.35628282e+01 -4.67430763e-01  9.46797726e+00\n",
      "  1.19586684e+01  1.26219827e+01 -6.19491006e+00 -3.24714600e+00\n",
      "  2.90909819e+00  1.34756505e+00 -1.03195918e+00  1.58558363e+00\n",
      "  5.10976383e+00  3.83897736e+01  6.17093007e+00  5.48000199e+00\n",
      "  1.22925171e+01  6.04004973e+00 -1.88650629e+01  6.34361889e+00\n",
      " -2.32426706e+00  5.31410589e+00  7.08507681e+00 -2.53878087e+01\n",
      " -7.49138917e+00 -1.16227068e+01  2.25250795e+01 -1.37817363e+00\n",
      "  7.21164765e+00  4.40472369e+00 -3.26020022e+00 -8.89403541e+00\n",
      " -5.28313132e+00 -1.32049247e+00  5.63219398e+00 -1.13970664e+01\n",
      " -4.35004323e+00 -8.66492026e+00 -7.87028603e+00  1.74255457e+01\n",
      "  1.96893537e-01  1.39175999e+00  2.16534797e+01  5.90457467e-01\n",
      " -2.11924361e+01  2.24093515e+00 -4.86753220e+00  1.92182060e+01\n",
      " -9.42326967e+00  1.27176864e+01  1.12420111e+00  1.01004765e+01\n",
      "  1.04005719e+01 -9.18363567e+00 -1.93412192e+01 -5.52667657e+00\n",
      " -9.33606024e+00 -1.69134474e+01  1.06928768e+01 -4.66650687e+00\n",
      " -1.19993805e+01 -9.93106810e-01  1.16492069e+00  4.25165967e+00\n",
      " -3.02962621e+00  4.37374518e+00 -1.00614133e+01  1.29060589e+01\n",
      " -2.99440925e+00  4.43328022e+00 -1.62883274e-01  4.55086697e+00\n",
      " -1.00177473e+01  5.96072406e+00 -2.40517123e+01  9.77072081e-01\n",
      " -1.87316255e+00 -1.64440558e+00 -2.44463440e+00 -1.79731210e+01\n",
      " -1.85061985e+01  9.53910106e+00 -4.76321051e+00  3.90865115e+00\n",
      "  1.01917943e+01 -6.82489209e+00 -7.73053330e+00  8.37617632e+00\n",
      "  1.96714960e+01 -1.43696049e+01  2.94403848e+00  1.19158873e+00\n",
      " -3.95368216e+00  6.82712270e+00 -5.12683946e+00 -2.04910341e+01\n",
      "  1.27426505e+01 -1.92986910e+01 -1.01333411e+01  2.28153487e+00\n",
      "  3.25567666e-01  3.33176735e+00 -1.77708678e+00  1.52905220e+01\n",
      "  1.89950868e+00 -1.68173730e+01 -6.41561620e+00 -1.10004232e+00\n",
      " -9.23165013e+00 -1.02585642e+01  7.27268989e+00  1.44999603e+01\n",
      "  9.15977091e-01 -1.42617762e+01  2.72000205e-01  2.45173259e+00\n",
      " -8.91903998e+00  1.55021430e+01 -1.60275554e+01  3.44704884e+00\n",
      " -1.38735600e+01  3.54184583e+00  1.62716284e+01 -9.00024702e+00\n",
      " -5.34926322e+00  1.60984386e+01 -1.62026192e+00  1.87343140e+00\n",
      "  1.18379768e+01  7.89797252e+00  3.94389919e+00  4.20637269e+00\n",
      " -1.80173610e+00 -1.26476308e+01 -1.27717283e+01  6.27010157e+00\n",
      " -1.73951511e+01 -1.32153449e+01  6.76639026e+00 -7.16905492e+00\n",
      " -1.54148077e+01 -1.07675114e+01 -3.84080680e+00 -1.81339873e+00\n",
      " -1.07146729e+01 -4.41518654e+00 -1.35583476e+01 -1.89086180e+01\n",
      "  3.34214719e-01  9.27836161e+00  7.67911086e+00 -6.37641452e+00\n",
      "  2.70439497e-01 -9.21738246e+00 -4.55943654e-01 -8.01489312e+00\n",
      " -6.11739388e+00  1.48615683e+00  3.31062538e+00  1.48015215e+00\n",
      " -6.41430317e+00  3.54474425e+00  6.84972098e+00  8.45258527e+00\n",
      " -6.29592690e+00  1.07914703e+01  6.83677197e+00 -2.07752080e+00]\n"
     ]
    }
   ],
   "source": [
    "n = 1000 # now try with 100000...\n",
    "A = np.random.randn(n, n)\n",
    "b = np.random.randn(n)\n",
    "x = la.solve(A, b)\n",
    "print(\"x:\", x)"
   ]
  },
  {
   "cell_type": "markdown",
   "metadata": {},
   "source": [
    "An example is the [Netflix Competition](https://en.wikipedia.org/wiki/Netflix_Prize), where a matrix of $400000 \\times 18000$ (ratings times movies) needed to be dealt with.\n",
    "\n",
    "In these cases, the problem should be tackled by operating some convenient transformation of the input matrix.\n",
    "\n",
    "In the mathematical discipline of linear algebra, a **matrix decomposition** is a factorization of a matrix into a product of matrices. Matrix decompositions are an important step in solving linear systems in a computationally efficient manner.\n",
    "\n",
    "### Lower-Upper factorization\n",
    "\n",
    "Let $A$ be a **square** matrix. An [LU factorization](https://en.wikipedia.org/wiki/LU_decomposition) refers to the factorization of $A$, with a proper row and/or column orderings or permutations, into two factors: a lower triangular matrix $L$ and an upper triangular matrix $U$:\n",
    "\n",
    "$A=LU$\n",
    "\n",
    "when solving a system of linear equations, $Ax=b=LUx$, the solution is done in two logical steps:\n",
    "\n",
    "1. solve $Ly=b$ for $y$.\n",
    "2. solve $Ux=y$ for $x$.\n",
    "\n",
    "Often a permutation $P$ is needed (*partial pivoting*) to best reorder the rows of the original matrix.\n",
    "\n",
    "The `scipy.linalg` method `lu()` performs the [LU decomposition](https://docs.scipy.org/doc/scipy/reference/generated/scipy.linalg.lu.html):"
   ]
  },
  {
   "cell_type": "code",
   "execution_count": 13,
   "metadata": {},
   "outputs": [
    {
     "name": "stdout",
     "output_type": "stream",
     "text": [
      "A:\n",
      " [[1 3 4]\n",
      " [2 1 3]\n",
      " [4 1 2]] \n",
      "\n",
      "P:\n",
      " [[0. 1. 0.]\n",
      " [0. 0. 1.]\n",
      " [1. 0. 0.]] \n",
      "\n",
      "L:\n",
      " [[1.         0.         0.        ]\n",
      " [0.25       1.         0.        ]\n",
      " [0.5        0.18181818 1.        ]] \n",
      "\n",
      "U:\n",
      " [[4.         1.         2.        ]\n",
      " [0.         2.75       3.5       ]\n",
      " [0.         0.         1.36363636]] \n",
      "\n",
      "LU:\n",
      " [[4. 1. 2.]\n",
      " [1. 3. 4.]\n",
      " [2. 1. 3.]] \n",
      "\n",
      "PLU:\n",
      " [[1. 3. 4.]\n",
      " [2. 1. 3.]\n",
      " [4. 1. 2.]] \n",
      "\n",
      "Are PLU and A the same? True \n",
      "\n"
     ]
    }
   ],
   "source": [
    "A = np.array([[1, 3, 4], [2, 1, 3], [4, 1, 2]])\n",
    "print(\"A:\\n\", A, \"\\n\")\n",
    "\n",
    "P, L, U = la.lu(A)\n",
    "# P is the permutation matrix of the original matrix A\n",
    "print(\"P:\\n\", P, '\\n')\n",
    "print(\"L:\\n\", L, '\\n')\n",
    "print(\"U:\\n\", U, '\\n')\n",
    "print(\"LU:\\n\", np.dot(L, U), '\\n')\n",
    "plu = np.dot(P, np.dot(L, U))\n",
    "print(\"PLU:\\n\", plu, '\\n')\n",
    "print(\"Are PLU and A the same?\", np.allclose(plu, A), '\\n')"
   ]
  },
  {
   "cell_type": "markdown",
   "metadata": {},
   "source": [
    "### Eigendecomposition\n",
    "\n",
    "Given a **square** $n\\times n$ matrix $A$, with $\\det{A}\\ne0$, then there exist $n$ linearly independent eigenvectors and $A$ may be decomposed in the following manner:\n",
    "\n",
    "$$ \n",
    "A=V\\Lambda V^{-1}\n",
    "$$\n",
    "\n",
    "where $\\Lambda$ is a diagonal matrix whose diagonal entries are the eigenvalues of $A$ and the columns of $V$ are the corresponding eigenvectors of $A$.\n",
    "\n",
    "Eigenvalues are roots of the *characteristic polynomial* of $A$:\n",
    "\n",
    "$$\n",
    "\\det{(A-\\lambda I)}=0\n",
    "$$\n",
    "\n",
    "with $I$ being the identity matrix.\n",
    "\n",
    "Eigenvectors are the vectors that solve the equation:\n",
    "\n",
    "$$\n",
    "A v = \\lambda v\n",
    "$$\n",
    "\n",
    "for all eigenvalues $\\lambda$.\n",
    "\n",
    "The eigendecomposition is performed by the method `eig()` ([documentation](https://docs.scipy.org/doc/scipy/reference/generated/scipy.linalg.eig.html)):"
   ]
  },
  {
   "cell_type": "code",
   "execution_count": 18,
   "metadata": {},
   "outputs": [
    {
     "name": "stdout",
     "output_type": "stream",
     "text": [
      "A:\n",
      " [[0 1 1]\n",
      " [2 1 0]\n",
      " [3 4 5]] \n",
      "\n",
      "l:\n",
      " [ 5.85410197+0.j -0.85410197+0.j  1.        +0.j] \n",
      "\n",
      "real(l):\n",
      " [ 5.85410197 -0.85410197  1.        ] \n",
      "\n",
      "V:\n",
      " [[ 1.80228488e-01  6.72063326e-01 -6.22075198e-17]\n",
      " [ 7.42582208e-02 -7.24947536e-01 -7.07106781e-01]\n",
      " [ 9.80817725e-01  1.50936928e-01  7.07106781e-01]] \n",
      "\n",
      "A v: [1.05507595 0.4347152  5.74180697]  = l v: [1.05507595 0.4347152  5.74180697]\n"
     ]
    }
   ],
   "source": [
    "A = np.array([[0, 1, 1], [2, 1, 0], [3, 4, 5]])\n",
    "print(\"A:\\n\", A, '\\n')\n",
    "\n",
    "l, V = la.eig(A)\n",
    "# the eigenvalues\n",
    "print(\"l:\\n\", l, '\\n')\n",
    "print(\"real(l):\\n\", np.real_if_close(l), '\\n')\n",
    "# V is the matrix of the eigenvectors\n",
    "print(\"V:\\n\", V, '\\n')\n",
    "print(\"A v:\", A.dot(V[:, 0]), \" = l v:\", V[:, 0]*np.real_if_close(l[0])) # test the definition of the first eigenvector"
   ]
  },
  {
   "cell_type": "markdown",
   "metadata": {},
   "source": [
    "Check that the decomposition $V \\Lambda V^{-1}$ returns the original matrix $A$:"
   ]
  },
  {
   "cell_type": "code",
   "execution_count": 19,
   "metadata": {},
   "outputs": [
    {
     "name": "stdout",
     "output_type": "stream",
     "text": [
      "[[ 3.15389796e-17  1.00000000e+00  1.00000000e+00]\n",
      " [ 2.00000000e+00  1.00000000e+00 -4.33283346e-16]\n",
      " [ 3.00000000e+00  4.00000000e+00  5.00000000e+00]] \n",
      "\n",
      "Are A and D equal? True\n"
     ]
    }
   ],
   "source": [
    "D = np.dot(V, np.dot(np.diag(np.real_if_close(l)), la.inv(V)))\n",
    "print(D, '\\n')\n",
    "print(\"Are A and D equal?\", np.allclose(A, D))"
   ]
  },
  {
   "cell_type": "markdown",
   "metadata": {},
   "source": [
    "### Singular Value Decomposition\n",
    "\n",
    "Another important matrix decomposition is the *singular value decomposition* or SVD. For any $m\\times n$ matrix $A$, we may write:\n",
    "\n",
    "$$A=USV^T$$\n",
    "\n",
    "where (assuming $A$ is real):\n",
    " - $U$ is a $m\\times m$ orthogonal, unitary matrix\n",
    " - $S$ (spectrum) is a rectangular, diagonal $m\\times n$ matrix with diagonal entries $d_1,\\dots,d_m$ all non-negative\n",
    " - $V$ is a $n\\times n$ orthogonal, unitary matrix.\n",
    "\n",
    "The singular-value decomposition is a generalization of the eigendecomposition in the sense that it can be applied to any $m \\times n$ matrix whereas eigenvalue decomposition can only be applied to diagonalizable matrices. \n",
    "\n",
    "Given an SVD of $A$, as described above, the following holds:\n",
    "\n",
    "$$\n",
    "A^T A = VS^TU^T USV^T = VS^TSV^T \n",
    "$$\n",
    "$$\n",
    "A A^T = US^TV^T VSU^T = US^TSU^T \n",
    "$$\n",
    "\n",
    "The right-hand sides of these relations describe the **eigenvalue decompositions** of the left-hand sides. Therefore, the SVD can be seen as running twice the eigenvalue decomposition for the equations above.\n",
    "\n",
    "Consequently:\n",
    "* the columns of V (right-singular vectors) are eigenvectors of $A^TA$.\n",
    "* the columns of U (left-singular vectors) are eigenvectors of $AA^T$.\n",
    "* the elements on the diagonal of the matrix $S^TS$ are the eigenvalues of $A^TA$ or $AA^T$ (follows from the eigenvalue decomposition $A = V \\Lambda V^{-1}$). In other words, the elements of the diagonal matrix $S$ are the square root of the eigenvalues of $A^TA$ or $AA^T$.\n",
    "\n",
    "A geometrical representation of SVD is given by the following figure:"
   ]
  },
  {
   "cell_type": "code",
   "execution_count": null,
   "metadata": {},
   "outputs": [],
   "source": [
    "from IPython.display import Image\n",
    "Image(\"images/Singular-Value-Decomposition.png\")"
   ]
  },
  {
   "cell_type": "markdown",
   "metadata": {},
   "source": [
    "Needless to say, the SVD is [implemented](https://numpy.org/doc/stable/reference/generated/numpy.linalg.svd.html) in `scipy.linalg` in the the `svd()` method:"
   ]
  },
  {
   "cell_type": "code",
   "execution_count": 15,
   "metadata": {},
   "outputs": [
    {
     "name": "stdout",
     "output_type": "stream",
     "text": [
      "A:\n",
      " [[ 1.53084793  1.18207437 -0.70318097  0.11418354]\n",
      " [ 2.20972373  0.49817093 -1.15328948  1.1462577 ]\n",
      " [-0.07244129  0.76180949  1.07381095 -0.30727788]\n",
      " [-0.99583026 -0.40223677  0.16107565 -0.19418794]\n",
      " [-1.26385852 -0.64441728 -0.03161513  0.38497076]] \n",
      "\n",
      "shapes: U = (5, 5) S: (4,) V^T: (4, 4) \n",
      "\n",
      "Spectrum:\n",
      " [3.7083508  1.68779979 0.62697246 0.49166717] \n",
      "\n",
      "U:\n",
      " [[-0.52947094 -0.27134928  0.42854685  0.67812783  0.05020287]\n",
      " [-0.7277167   0.37273243 -0.49116163 -0.08736956 -0.28744697]\n",
      " [ 0.06897119 -0.75155655 -0.62326132  0.15675345 -0.13183101]\n",
      " [ 0.28980354  0.11696592  0.14500466  0.24846154 -0.90530293]\n",
      " [ 0.31834858  0.45707968 -0.40697277  0.66798534  0.27910769]] \n",
      "\n",
      "V^T:\n",
      " [[-0.83986968 -0.33912039  0.3565627  -0.22908364]\n",
      " [-0.13714738 -0.62164454 -0.61719445  0.4624064 ]\n",
      " [-0.0226256  -0.0143236  -0.58684565 -0.80925589]\n",
      " [-0.5246881   0.70593928 -0.38411748  0.28072389]] \n",
      "\n"
     ]
    }
   ],
   "source": [
    "m, n = 5, 4\n",
    "A = np.random.randn(m, n) #+ 1.j*np.random.randn(m, n) # it also work with complex numbers\n",
    "print(\"A:\\n\", A, '\\n')\n",
    "\n",
    "# perform the SVD\n",
    "U, s, Vt = la.svd(A)\n",
    "\n",
    "# attention: s is the vector of the diagonal termns, not a matrix\n",
    "print(\"shapes: U =\", U.shape, \"S:\", s.shape, \"V^T:\", Vt.shape, '\\n')\n",
    "print(\"Spectrum:\\n\", s, '\\n')\n",
    "print(\"U:\\n\", U, '\\n')\n",
    "print(\"V^T:\\n\", Vt, '\\n')"
   ]
  },
  {
   "cell_type": "markdown",
   "metadata": {},
   "source": [
    "Let's verify the definition of SVD by hand:"
   ]
  },
  {
   "cell_type": "code",
   "execution_count": null,
   "metadata": {},
   "outputs": [],
   "source": [
    "# Build the matrix S\n",
    "S = np.zeros((m, n))\n",
    "for i in range(min(m, n)):\n",
    "    S[i, i] = s[i]\n",
    "print(\"S:\\n\", S, '\\n')\n",
    "\n",
    "SVD = np.dot(U, np.dot(S, Vt))\n",
    "print(\"SVD:\\n\", SVD, '\\n')\n",
    "print(\"Are the SVD and A matrices equal?\", np.allclose(SVD, A))"
   ]
  },
  {
   "cell_type": "markdown",
   "metadata": {},
   "source": [
    "## Principal Component Analysis \n",
    "\n",
    "Principal Components Analysis (PCA) aims to find and rank all the eigenvalues and eigenvectors of the covariance matrix of a given dataset. This is useful because high-dimensional data (with $p$ features) may have nearly all their variation in a small number of dimensions $k < p$, i.e. in the subspace spanned by the eigenvectors of the covariance matrix that have the $k$ largest eigenvalues. If we project the original data into this subspace, we can have a dimension reduction (from $p$ to $k$) with a limited loss of information."
   ]
  },
  {
   "cell_type": "code",
   "execution_count": null,
   "metadata": {},
   "outputs": [],
   "source": [
    "# construct a dataset with a skewed 2D distribution\n",
    "mu = [0, 0] # centered on 0\n",
    "cv = [[0.6, 0.2], [0.2, 0.2]] # input covariance matrix: asymmetric sigmas\n",
    "n = 1000\n",
    "# generate random numbers according to a 2D normal distribution\n",
    "X = np.random.multivariate_normal(mu, cv, n)#.T\n",
    "print(\"Shape:\", X.shape, '\\n', X)"
   ]
  },
  {
   "cell_type": "code",
   "execution_count": null,
   "metadata": {},
   "outputs": [],
   "source": [
    "#lt.scatter(X[0,:], X[1,:], alpha=0.2)\n",
    "plt.scatter(X[:,0], X[:,1], alpha=0.2)\n",
    "\n",
    "plt.xlim([-3, 3])\n",
    "plt.ylim([-3, 3])"
   ]
  },
  {
   "cell_type": "markdown",
   "metadata": {},
   "source": [
    "Numerically, PCA can be done either by means of **eigendecomposition on the covariance matrix** or via **SVD on the data matrix**. Even though the latter is usually preferred, let's have first a look at the former.\n",
    "\n",
    "\n",
    "### PCA with eigendecomposition\n",
    "\n",
    "Let's recall the definition of the covariance matrix (of 2 variables):\n",
    "\n",
    "$$\n",
    "{\\rm Cov}(X,Y)=\\frac{\\sum_{i=1}^n (X_i-\\bar{X})(Y_i-\\bar{Y})}{n-1}\n",
    "$$\n",
    "\n",
    "with Cov$(X,X)$ the variance of the variable $X$, and $n$ the number of entries.\n",
    "\n",
    "In the case the features of the datasets have all **zero mean**, the covariance matrix is of the form:\n",
    "\n",
    "$$\n",
    "{\\rm Cov}(X)=\\frac{X^T X}{n-1}\n",
    "$$"
   ]
  },
  {
   "cell_type": "code",
   "execution_count": null,
   "metadata": {},
   "outputs": [],
   "source": [
    "# the covariance matrix\n",
    "cov = np.cov(X, rowvar=False)\n",
    "#cov = np.dot(X.T, X)/(n-1) # this would yield the same result\n",
    "print(\"Covariance matrix:\\n\", cov, '\\n')\n",
    "\n",
    "# now find the eigenvectors of the covariance matrix\n",
    "l, V = la.eig(cov)\n",
    "# take only the real component, if possible\n",
    "l = np.real_if_close(l)\n",
    "\n",
    "print(\"Eigenvalues:\\n\", l, '\\n')\n",
    "print(\"Eigenvectors:\\n\", V, '\\n')\n",
    "\n",
    "# Check that V is actually an orthogonal matrix (and thus its transpose is also its inverse)\n",
    "#print(\"VV^T:\\n\", V.dot(V.T), '\\n')"
   ]
  },
  {
   "cell_type": "code",
   "execution_count": null,
   "metadata": {},
   "outputs": [],
   "source": [
    "# Graphically represent the eigenvectors rescaled by the eigenvalues\n",
    "plt.figure(figsize=(8, 8))\n",
    "# the original data distribution\n",
    "plt.scatter(X[:, 0], X[:, 1], alpha=0.2)\n",
    "\n",
    "# a scale factor to graphically enhance the lines - only for visualization purposes\n",
    "scale_factor = 3\n",
    "\n",
    "# draw each eigenvectors rescaled by the eigenvalues\n",
    "for li, vi in zip(l, V.T):\n",
    "    #print(\"Eigenvalue:\", li, \",\\teigenvector:\", vi)\n",
    "    # the line is defined by specifying its beginning and its end \n",
    "    plt.plot([0, scale_factor * li * vi[0]], [0, scale_factor * li * vi[1]], 'r-', lw=2)\n",
    "\n",
    "# fix the size of the axes to have the right visual effect\n",
    "plt.axis([-3, 3, -3, 3])\n",
    "plt.title('Eigendecomposition:\\neigenvectors of covariance matrix scaled by eigenvalue')"
   ]
  },
  {
   "cell_type": "markdown",
   "metadata": {},
   "source": [
    "We can now use the eigenvectors and eigenvalues to rotate the data, i.e. take the eigenvectors as new basis vectors and redefine the data points w.r.t. this new basis:\n",
    "\n",
    "$$X' = X \\cdot V$$"
   ]
  },
  {
   "cell_type": "code",
   "execution_count": null,
   "metadata": {},
   "outputs": [],
   "source": [
    "# rotate all the data points accordingly to the new base by multiplying by the matrix V\n",
    "Xp = np.dot(X, V)\n",
    "\n",
    "# then plot the rotated dataset and its \"axes\"\n",
    "plt.figure(figsize=(8, 8))\n",
    "plt.scatter(Xp[:, 0], Xp[:, 1], alpha=0.2)\n",
    "# same eigenvalues as before, assume we rotated properly the data\n",
    "for li, vi in zip(l, np.dot(V.T, V)): # np.dot(V.T, V) is equivalent to np.diag([1]*len(l))\n",
    "    plt.plot([0, scale_factor*li*vi[0]], [0, scale_factor*li*vi[1]], 'r-', lw=2)\n",
    "plt.axis([-3, 3, -3, 3])"
   ]
  },
  {
   "cell_type": "markdown",
   "metadata": {},
   "source": [
    "For example, if we only use the first column of `Xp`, we will have the projection of the data onto the first principal component, capturing the majority of the variance in the data using only a single feature that is a linear combination of the original features.\n",
    "\n",
    "We may need to transform the (reduced) data set to the original feature coordinates for interpreation. This is simply another linear transform (matrix multiplication):\n",
    "\n",
    "$$X'' = X' \\cdot V^T$$"
   ]
  },
  {
   "cell_type": "code",
   "execution_count": null,
   "metadata": {},
   "outputs": [],
   "source": [
    "# rotate back the data to the original basis, this time by multiplying by the matrix V^T, the opposite as before\n",
    "Xpp = np.dot(Xp, V.T)\n",
    "\n",
    "# re-plot in the original basis\n",
    "plt.figure(figsize=(8, 8))\n",
    "plt.scatter(Xpp[:, 0], Xpp[:, 1], alpha=0.2)\n",
    "for li, vi in zip(l, V.T):\n",
    "    plt.plot([0, scale_factor*li*vi[0]], [0, scale_factor*li*vi[1]], 'r-', lw=2)\n",
    "plt.axis([-3, 3, -3, 3])"
   ]
  },
  {
   "cell_type": "markdown",
   "metadata": {},
   "source": [
    "#### Dimension reduction via PCA\n",
    "\n",
    "Given the spectral decomposition:\n",
    "\n",
    "$$ \n",
    "A=V\\Lambda V^{-1}\n",
    "$$\n",
    "\n",
    "with $\\Lambda$ of rank $p$. Reducing the dimensionality to $k<p$ simply means setting to zero all but the first $k$ diagonal values (ordered from the largest to the smaller in module; that is the default in numpy/scipy).\n",
    "\n",
    "In this way we catch the most relevant part of its variability (covariance).\n",
    "\n",
    "Since the trace is invariant under change of basis, the total variability is also unchaged by PCA. By keeping only the first $k$ principal components, we can still retain $\\sum_1^k \\lambda_i/\\sum_1^p \\lambda_i$ of the total variability.\n",
    "\n",
    "In general, the degree of dimension reduction is specified as keeping enough principal components so that a certain fraction (say 90%) of the total variability is retained."
   ]
  },
  {
   "cell_type": "markdown",
   "metadata": {},
   "source": [
    "In the previous example, let's consider only the component that exhibits the largest variability, and discard the other:"
   ]
  },
  {
   "cell_type": "code",
   "execution_count": null,
   "metadata": {},
   "outputs": [],
   "source": [
    "#l, V = np.linalg.eig(cov)\n",
    "Lambda = np.diag(l)\n",
    "print(\"Lambda:\\n\", Lambda, '\\n')\n",
    "print(\"Trace(A):\\n\", cov.trace(), '\\n')\n",
    "print(\"Trace(Lambda):\\n\", Lambda.trace(), '\\n')\n",
    "\n",
    "print(\"By selecting the component 0, we retain %.2f%% of the total variability\" % (Lambda[0, 0]/Lambda.trace()))"
   ]
  },
  {
   "cell_type": "markdown",
   "metadata": {},
   "source": [
    "### PCA with SVD\n",
    "\n",
    "We saw that SVD is a decomposition of the data matrix $X=UDV^T$ where $U$ and $V$ are orthogonal matrices and $D$ is a diagnonal matrix.\n",
    "\n",
    "Compared with the eigendecomposition of a matrix $A=W\\Lambda W^{−1}$, we see that SVD gives us the eigendecomposition of the matrix $XX^T$, which as we have just seen, is basically a scaled version of the covariance for a data matrix with zero mean, with the eigenvectors given by $V^T$ and eigenvalues by $D^2 / (n-1)$."
   ]
  },
  {
   "cell_type": "code",
   "execution_count": null,
   "metadata": {},
   "outputs": [],
   "source": [
    "# Perform SVD decomposition on the dataset\n",
    "U, S, Vt = np.linalg.svd(X)\n",
    "\n",
    "# Rescale the SVD spectrum to get the eigenvalues\n",
    "l_svd = S**2/(n-1)\n",
    "# The matrix Vt already contains the eigenvectors\n",
    "\n",
    "print(\"U:\\n\", U, '\\n')\n",
    "print(\"S:\\n\", S, '\\n')\n",
    "print(\"Vt:\\n\", Vt, '\\n')"
   ]
  },
  {
   "cell_type": "code",
   "execution_count": null,
   "metadata": {},
   "outputs": [],
   "source": [
    "# Compare Eigenvalues\n",
    "print(\"Eigendecomposition:\\n\", l)\n",
    "print(\"SVD:\\n\", l_svd)"
   ]
  },
  {
   "cell_type": "code",
   "execution_count": null,
   "metadata": {
    "scrolled": true
   },
   "outputs": [],
   "source": [
    "# Compare Eigenvectors\n",
    "print(\"Eigendecomposition:\\n\", V)\n",
    "print(\"SVD:\\n\", Vt)"
   ]
  },
  {
   "cell_type": "code",
   "execution_count": null,
   "metadata": {},
   "outputs": [],
   "source": [
    "plt.figure(figsize=(8, 8))\n",
    "plt.scatter(X[:, 0], X[:, 1], alpha=0.2)\n",
    "# draw each eigenvectors rescaled by the eigenvalues\n",
    "for li, vi in zip(l_svd, Vt):\n",
    "    #print(\"Eigenvalue:\", li, \",\\teigenvector:\", vi)\n",
    "    # the line is defined by specifying its beginning and its end \n",
    "    plt.plot([0, scale_factor * li * vi[0]], [0, scale_factor * li * vi[1]], 'r-', lw=2)\n",
    "plt.axis([-3, 3, -3, 3])"
   ]
  },
  {
   "cell_type": "markdown",
   "metadata": {},
   "source": [
    "We can do the same as before, and rotate the data to the new basis of the eigenvectors:"
   ]
  },
  {
   "cell_type": "code",
   "execution_count": null,
   "metadata": {},
   "outputs": [],
   "source": [
    "# rotate all the data points accordingly to the new base by multiplying by the transpose of matrix V\n",
    "Xp_svd = np.dot(X, Vt.T)\n",
    "\n",
    "# then plot the rotated dataset and its \"axes\"\n",
    "plt.figure(figsize=(8, 8))\n",
    "plt.scatter(Xp_svd[:, 0], Xp_svd[:, 1], alpha=0.2)\n",
    "\n",
    "# draw each eigenvectors rescaled by the eigenvalues\n",
    "for li, vi in zip(l_svd, np.dot(Vt, Vt.T)):\n",
    "    #print(\"Eigenvalue:\", li, \",\\teigenvector:\", vi)\n",
    "    # the line is defined by specifying its beginning and its end \n",
    "    plt.plot([0, scale_factor * li * vi[0]], [0, scale_factor * li * vi[1]], 'r-', lw=2)\n",
    "\n",
    "plt.axis([-3, 3, -3, 3])"
   ]
  },
  {
   "cell_type": "markdown",
   "metadata": {},
   "source": [
    "# Algorithmic Complexity\n",
    "\n",
    "Profiling (e.g. with `timeit`) doesn’t tell us much about how an algorithm will perform on a different computer since it is determined by the hardware features. To compare performance in a device-indpendent fashion, a formalism (a.k.a the \"Big-O\") is used that characterizes functions in terms of their rates of growth as a function of the size *n* of the input.\n",
    "\n",
    "An algorithm is compared to a given function $g(n)$ with a well defined scaling with *n*, e.g. $n^2$; if the ratio of the two is bounded, than that algorithm is ${\\cal O}(g(n))$. Note that:\n",
    "* only the largest terms in the scaling of $g(n)$ is kept in the notation\n",
    "* two algorithms can have the same complexity and have very different performance; the same complexity only implies that the difference in performance is independent of *n*.\n",
    "\n",
    "### Comparing bubble sort ${\\cal O}(n^2)$ and merge sort ${\\cal O}(n\\log{n})$"
   ]
  },
  {
   "cell_type": "code",
   "execution_count": null,
   "metadata": {},
   "outputs": [],
   "source": [
    "def f1(n, k):\n",
    "    return k * n * n\n",
    "\n",
    "def f2(n, k):\n",
    "    return k * n * np.log(n)\n",
    "\n",
    "n = np.arange(0.1, 20001)\n",
    "plt.plot(n, f1(n, 1), c='blue')\n",
    "plt.plot(n, f2(n, 1000), c='red')\n",
    "plt.xlabel('Size of input (n)', fontsize=16)\n",
    "plt.ylabel('Number of operations', fontsize=16)\n",
    "plt.legend(['$\\mathcal{O}(n^2)$', '$\\mathcal{O}(n \\log n)$'], loc='best', fontsize=20);"
   ]
  },
  {
   "cell_type": "markdown",
   "metadata": {},
   "source": [
    "See [here](https://wiki.python.org/moin/TimeComplexity) for the complexity of operations on standard Python data structures. Note for instance that searching a list is much more expensive than searching a dictionary."
   ]
  },
  {
   "cell_type": "markdown",
   "metadata": {},
   "source": [
    "### Space Complexity\n",
    "\n",
    "We can also use the ${\\cal O}$ notation in the same way to measure the space complexity of an algorithm.  The notion of space complexity becomes important when your data volume is of the same magnitude or larger than the memory you have available. In that case, an algorihtm with high space complexity may end up having to swap memory constantly, and will perform far worse than its time complexity would suggest.\n",
    "\n",
    "Just as you should have a good idea of how your algorithm will scale with increasing *n*, you should also be able to know how much memory your data structures will require. For example, if you had an $n\\times p$ matrix of integers, an $n\\times p$ matrix of floats, and an $n\\times p$ matrix of complex floats, how large can $n$ and $p$ be before you run out of RAM to store them?"
   ]
  },
  {
   "cell_type": "code",
   "execution_count": null,
   "metadata": {},
   "outputs": [],
   "source": [
    "# Notice how much overhead Python objects have:\n",
    "# a raw integer should be 64 bits or 8 bytes only\n",
    "\n",
    "import sys\n",
    "print(\"int:\", sys.getsizeof(1), \"bytes\") # bytes\n",
    "print(\"long:\", sys.getsizeof(1234567890123456789012345678901234567890), \"bytes\")\n",
    "print(\"float:\", sys.getsizeof(3.14), \"bytes\")\n",
    "print(\"complex:\", sys.getsizeof(3j), \"bytes\")\n",
    "print(\"char:\", sys.getsizeof('a'), \"bytes\")\n",
    "print(\"string:\", sys.getsizeof('hello world'), \"bytes\")"
   ]
  },
  {
   "cell_type": "code",
   "execution_count": null,
   "metadata": {},
   "outputs": [],
   "source": [
    "print(\"100x100 bool:\", np.ones((100, 100), dtype='bool').nbytes, \"bytes\")\n",
    "print(\"100x100 int:\", np.ones((100, 100), dtype='int').nbytes, \"bytes\") # default is 64 bits or 8 bytes\n",
    "print(\"100x100 float:\", np.ones((100, 100), dtype='float').nbytes, \"bytes\") # default is 64 bits or 8 bytes\n",
    "print(\"100x100 complex:\", np.ones((100, 100), dtype='complex').nbytes, \"bytes\")\n",
    "print(\"10kx10k float:\", np.ones((10000, 10000), dtype='float').nbytes / 1e9, \"GB\")"
   ]
  },
  {
   "cell_type": "code",
   "execution_count": null,
   "metadata": {},
   "outputs": [],
   "source": []
  }
 ],
 "metadata": {
  "kernelspec": {
   "display_name": "Python 3 (ipykernel)",
   "language": "python",
   "name": "python3"
  },
  "language_info": {
   "codemirror_mode": {
    "name": "ipython",
    "version": 3
   },
   "file_extension": ".py",
   "mimetype": "text/x-python",
   "name": "python",
   "nbconvert_exporter": "python",
   "pygments_lexer": "ipython3",
   "version": "3.11.5"
  }
 },
 "nbformat": 4,
 "nbformat_minor": 2
}
