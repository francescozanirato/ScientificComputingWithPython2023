{
 "cells": [
  {
   "cell_type": "markdown",
   "metadata": {},
   "source": [
    "1\\. **Reductions**\n",
    "\n",
    "Given the following matrix:\n",
    "\n",
    "```python\n",
    "m = np.arange(12).reshape((3,4))\n",
    "```\n",
    "\n",
    "   1. find the total mean\n",
    "   2. find the mean for each row and column"
   ]
  },
  {
   "cell_type": "code",
   "execution_count": 11,
   "metadata": {},
   "outputs": [
    {
     "name": "stdout",
     "output_type": "stream",
     "text": [
      "The matrix is: \n",
      " [[ 0  1  2  3]\n",
      " [ 4  5  6  7]\n",
      " [ 8  9 10 11]]\n",
      "\n",
      "The total mean is:  5.5 \n",
      "\n",
      "The mean for the row number  0 (count starts from zero) is:  1.5\n",
      "The mean for the row number  1 (count starts from zero) is:  5.5\n",
      "The mean for the row number  2 (count starts from zero) is:  9.5\n",
      "\n",
      "\n",
      "The mean for the column number  0 (count starts from zero) is:  4.0\n",
      "The mean for the column number  1 (count starts from zero) is:  5.0\n",
      "The mean for the column number  2 (count starts from zero) is:  6.0\n",
      "The mean for the column number  3 (count starts from zero) is:  7.0\n"
     ]
    }
   ],
   "source": [
    "import numpy as np\n",
    "\n",
    "m = np.arange(12).reshape((3,4))\n",
    "print('The matrix is: \\n', m)\n",
    "\n",
    "tot_mean = np.mean(m)\n",
    "print('\\nThe total mean is: ', tot_mean, '\\n')\n",
    "\n",
    "for i in range(m.shape[0]):\n",
    "    row_i = m[i, :]\n",
    "    mean_row_i = np.mean(row_i)\n",
    "    print('The mean for the row number ', i, '(count starts from zero) is: ', mean_row_i)\n",
    "    \n",
    "print('\\n')\n",
    "\n",
    "for j in range(m.shape[1]):\n",
    "    column_j = m[:, j]\n",
    "    mean_colum_j = np.mean(column_j)\n",
    "    print('The mean for the column number ', j, '(count starts from zero) is: ', mean_colum_j)"
   ]
  },
  {
   "cell_type": "markdown",
   "metadata": {},
   "source": [
    "2\\. **Outer product**\n",
    "\n",
    "Find the outer product of the following vectors:\n",
    "\n",
    "```python\n",
    "u = np.array([1, 3, 5, 7])\n",
    "v = np.array([2, 4, 6, 8])\n",
    "```\n",
    "\n",
    "Use different methods to do this:\n",
    "\n",
    "   1. Using the function `outer` in numpy\n",
    "   2. Using a nested `for` loop or a list comprehension\n",
    "   3. Using numpy broadcasting operations"
   ]
  },
  {
   "cell_type": "code",
   "execution_count": 20,
   "metadata": {},
   "outputs": [
    {
     "name": "stdout",
     "output_type": "stream",
     "text": [
      "The vector u is:  [1 3 5 7]\n",
      "The vector v is:  [2 4 6 8]\n",
      "\n",
      "The outer product using numpy is: \n",
      " [[ 2  4  6  8]\n",
      " [ 6 12 18 24]\n",
      " [10 20 30 40]\n",
      " [14 28 42 56]]\n",
      "\n",
      "The outer product using a nested loop is: \n",
      " [[ 2.  4.  6.  8.]\n",
      " [ 6. 12. 18. 24.]\n",
      " [10. 20. 30. 40.]\n",
      " [14. 28. 42. 56.]]\n",
      "\n",
      "The outer product using broadcasting is: \n",
      " [[ 2  6 10 14]\n",
      " [ 4 12 20 28]\n",
      " [ 6 18 30 42]\n",
      " [ 8 24 40 56]]\n"
     ]
    }
   ],
   "source": [
    "import numpy as np\n",
    "\n",
    "u = np.array([1, 3, 5, 7])\n",
    "v = np.array([2, 4, 6, 8])\n",
    "print('The vector u is: ', u)\n",
    "print('The vector v is: ', v)\n",
    "\n",
    "\n",
    "#1. using the outer function in numpy:\n",
    "first_out = np.multiply.outer(u, v)\n",
    "print('\\nThe outer product using numpy is: \\n', first_out)\n",
    "\n",
    "#2. using a nested loop:\n",
    "second_out = np.empty((len(u), len(v)))\n",
    "for i in range(len(u)):\n",
    "    for j in range(len(v)):\n",
    "        second_out[i][j] = u[i]*v[j]\n",
    "print('\\nThe outer product using a nested loop is: \\n', second_out)\n",
    "\n",
    "#3. using numpy broadcasting\n",
    "v = v.reshape(len(v), 1)\n",
    "third_out = u*v\n",
    "print('\\nThe outer product using broadcasting is: \\n', third_out)"
   ]
  },
  {
   "cell_type": "markdown",
   "metadata": {},
   "source": [
    "3\\. **Matrix masking**\n",
    "\n",
    "Create a $10 \\times 6$ matrix of float random numbers, distributed between 0 and 3 according to a flat distribution.\n",
    "\n",
    "After creating the matrix, set all entries $< 0.3$ to zero using a mask."
   ]
  },
  {
   "cell_type": "code",
   "execution_count": 67,
   "metadata": {},
   "outputs": [
    {
     "name": "stdout",
     "output_type": "stream",
     "text": [
      "The random 10x6 matrix of float numbers from 0 to 3 is: \n",
      " [[1.77976841 2.45331806 1.61954208 0.16222084 1.62333097 1.62611245]\n",
      " [1.50118202 2.62455545 2.49979796 0.30044275 2.78469959 0.79495484]\n",
      " [0.80740368 1.65937552 0.92329459 2.97193035 0.43829533 1.57201169]\n",
      " [2.62604556 0.17272918 2.29752592 2.82713998 1.07312904 1.83088658]\n",
      " [2.15793591 2.91130564 2.3708255  1.52149989 1.70487948 0.84678802]\n",
      " [1.31430186 1.16912975 0.63491387 1.40365719 0.48258741 2.93521963]\n",
      " [0.28908576 2.53522134 0.32946682 1.82703286 1.94429584 0.46830663]\n",
      " [2.36350087 0.2687756  1.31688531 0.31986965 0.21296456 0.11356418]\n",
      " [1.43022123 2.89136546 0.10027404 2.9118448  1.25260543 2.36702941]\n",
      " [2.96567148 1.42920283 0.22232522 0.8120767  0.72105154 2.84088618]]\n",
      "\n",
      "The new random matrix with prevoius values less than 0.3 set to 0 is: \n",
      " [[1.77976841 2.45331806 1.61954208 0.         1.62333097 1.62611245]\n",
      " [1.50118202 2.62455545 2.49979796 0.30044275 2.78469959 0.79495484]\n",
      " [0.80740368 1.65937552 0.92329459 2.97193035 0.43829533 1.57201169]\n",
      " [2.62604556 0.         2.29752592 2.82713998 1.07312904 1.83088658]\n",
      " [2.15793591 2.91130564 2.3708255  1.52149989 1.70487948 0.84678802]\n",
      " [1.31430186 1.16912975 0.63491387 1.40365719 0.48258741 2.93521963]\n",
      " [0.         2.53522134 0.32946682 1.82703286 1.94429584 0.46830663]\n",
      " [2.36350087 0.         1.31688531 0.31986965 0.         0.        ]\n",
      " [1.43022123 2.89136546 0.         2.9118448  1.25260543 2.36702941]\n",
      " [2.96567148 1.42920283 0.         0.8120767  0.72105154 2.84088618]]\n"
     ]
    }
   ],
   "source": [
    "import numpy as np\n",
    "import numpy.random as npr\n",
    "\n",
    "npr.seed(201111)\n",
    "random_matrix = 3*npr.rand(10,6)\n",
    "print('The random 10x6 matrix of float numbers from 0 to 3 is: \\n', random_matrix)\n",
    "\n",
    "the_mask = (random_matrix < 0.3)\n",
    "random_matrix[the_mask] = 0\n",
    "print('\\nThe new random matrix with prevoius values less than 0.3 set to 0 is: \\n', random_matrix)"
   ]
  },
  {
   "cell_type": "markdown",
   "metadata": {},
   "source": [
    "4\\. **Trigonometric functions**\n",
    "\n",
    "Use `np.linspace` to create an array of 100 numbers between $0$ and $2\\pi$ (inclusive).\n",
    "\n",
    "  * Extract every 10th element using the slice notation\n",
    "  * Reverse the array using the slice notation\n",
    "  * Extract elements where the absolute difference between the `sin` and `cos` functions evaluated for that element is $< 0.1$\n",
    "  * **Optional**: make a plot showing the `sin` and `cos` functions and indicate graphically (with a line or a marker) where they are close"
   ]
  },
  {
   "cell_type": "code",
   "execution_count": 52,
   "metadata": {},
   "outputs": [
    {
     "name": "stdout",
     "output_type": "stream",
     "text": [
      "The angles are: \n",
      " [0.         0.06346652 0.12693304 0.19039955 0.25386607 0.31733259\n",
      " 0.38079911 0.44426563 0.50773215 0.57119866 0.63466518 0.6981317\n",
      " 0.76159822 0.82506474 0.88853126 0.95199777 1.01546429 1.07893081\n",
      " 1.14239733 1.20586385 1.26933037 1.33279688 1.3962634  1.45972992\n",
      " 1.52319644 1.58666296 1.65012947 1.71359599 1.77706251 1.84052903\n",
      " 1.90399555 1.96746207 2.03092858 2.0943951  2.15786162 2.22132814\n",
      " 2.28479466 2.34826118 2.41172769 2.47519421 2.53866073 2.60212725\n",
      " 2.66559377 2.72906028 2.7925268  2.85599332 2.91945984 2.98292636\n",
      " 3.04639288 3.10985939 3.17332591 3.23679243 3.30025895 3.36372547\n",
      " 3.42719199 3.4906585  3.55412502 3.61759154 3.68105806 3.74452458\n",
      " 3.8079911  3.87145761 3.93492413 3.99839065 4.06185717 4.12532369\n",
      " 4.1887902  4.25225672 4.31572324 4.37918976 4.44265628 4.5061228\n",
      " 4.56958931 4.63305583 4.69652235 4.75998887 4.82345539 4.88692191\n",
      " 4.95038842 5.01385494 5.07732146 5.14078798 5.2042545  5.26772102\n",
      " 5.33118753 5.39465405 5.45812057 5.52158709 5.58505361 5.64852012\n",
      " 5.71198664 5.77545316 5.83891968 5.9023862  5.96585272 6.02931923\n",
      " 6.09278575 6.15625227 6.21971879 6.28318531]\n",
      "\n",
      "The angles picked every 10 elements are: \n",
      " [0.         0.63466518 1.26933037 1.90399555 2.53866073 3.17332591\n",
      " 3.8079911  4.44265628 5.07732146 5.71198664]\n",
      "\n",
      "The angles in the reversed order are: \n",
      " [6.28318531 6.21971879 6.15625227 6.09278575 6.02931923 5.96585272\n",
      " 5.9023862  5.83891968 5.77545316 5.71198664 5.64852012 5.58505361\n",
      " 5.52158709 5.45812057 5.39465405 5.33118753 5.26772102 5.2042545\n",
      " 5.14078798 5.07732146 5.01385494 4.95038842 4.88692191 4.82345539\n",
      " 4.75998887 4.69652235 4.63305583 4.56958931 4.5061228  4.44265628\n",
      " 4.37918976 4.31572324 4.25225672 4.1887902  4.12532369 4.06185717\n",
      " 3.99839065 3.93492413 3.87145761 3.8079911  3.74452458 3.68105806\n",
      " 3.61759154 3.55412502 3.4906585  3.42719199 3.36372547 3.30025895\n",
      " 3.23679243 3.17332591 3.10985939 3.04639288 2.98292636 2.91945984\n",
      " 2.85599332 2.7925268  2.72906028 2.66559377 2.60212725 2.53866073\n",
      " 2.47519421 2.41172769 2.34826118 2.28479466 2.22132814 2.15786162\n",
      " 2.0943951  2.03092858 1.96746207 1.90399555 1.84052903 1.77706251\n",
      " 1.71359599 1.65012947 1.58666296 1.52319644 1.45972992 1.3962634\n",
      " 1.33279688 1.26933037 1.20586385 1.14239733 1.07893081 1.01546429\n",
      " 0.95199777 0.88853126 0.82506474 0.76159822 0.6981317  0.63466518\n",
      " 0.57119866 0.50773215 0.44426563 0.38079911 0.31733259 0.25386607\n",
      " 0.19039955 0.12693304 0.06346652 0.        ]\n",
      "\n",
      "The angles for which the difference between sin and cos is less than 0.1 are: \n",
      " [0.76159822 0.82506474 3.87145761 3.93492413]\n"
     ]
    }
   ],
   "source": [
    "import numpy as np\n",
    "import math \n",
    "\n",
    "angles = np.linspace(0, 2*math.pi, 100)\n",
    "print('The angles are: \\n', angles)\n",
    "\n",
    "angles_10setp = angles[::10]\n",
    "print('\\nThe angles picked every 10 elements are: \\n', angles_10setp)\n",
    "\n",
    "angles_reversed = angles[::-1]\n",
    "print('\\nThe angles in the reversed order are: \\n', angles_reversed)\n",
    "\n",
    "\n",
    "sin_angles = np.sin(angles)\n",
    "cos_angles = np.cos(angles)\n",
    "\n",
    "the_mask = (np.absolute(sin_angles - cos_angles) < 0.1)\n",
    "filtered_angles = angles[the_mask]\n",
    "print('\\nThe angles for which the difference between sin and cos is less than 0.1 are: \\n', filtered_angles)"
   ]
  },
  {
   "cell_type": "markdown",
   "metadata": {},
   "source": [
    "5\\. **Matrices**\n",
    "\n",
    "Create a matrix that shows the $10 \\times 10$ multiplication table.\n",
    "\n",
    " * Find the trace of the matrix\n",
    " * Extract the anti-diagonal matrix (this should be ```array([10, 18, 24, 28, 30, 30, 28, 24, 18, 10])```)\n",
    " * Extract the diagonal offset by 1 upwards (this should be ```array([ 2,  6, 12, 20, 30, 42, 56, 72, 90])```)"
   ]
  },
  {
   "cell_type": "code",
   "execution_count": 101,
   "metadata": {},
   "outputs": [
    {
     "name": "stdout",
     "output_type": "stream",
     "text": [
      "The multiplication matrix 10x10 is: \n",
      " [[  1   2   3   4   5   6   7   8   9  10]\n",
      " [  2   4   6   8  10  12  14  16  18  20]\n",
      " [  3   6   9  12  15  18  21  24  27  30]\n",
      " [  4   8  12  16  20  24  28  32  36  40]\n",
      " [  5  10  15  20  25  30  35  40  45  50]\n",
      " [  6  12  18  24  30  36  42  48  54  60]\n",
      " [  7  14  21  28  35  42  49  56  63  70]\n",
      " [  8  16  24  32  40  48  56  64  72  80]\n",
      " [  9  18  27  36  45  54  63  72  81  90]\n",
      " [ 10  20  30  40  50  60  70  80  90 100]]\n",
      "\n",
      "The trace of the matrix is:  385\n",
      "\n",
      "The anti-diagonal is: \n",
      " [10 18 24 28 30 30 28 24 18 10]\n",
      "\n",
      "The diagonal by an offset 1 is: \n",
      " [ 2  6 12 20 30 42 56 72 90]\n"
     ]
    }
   ],
   "source": [
    "import numpy as np\n",
    "\n",
    "a = np.array([1, 2, 3, 4, 5, 6, 7, 8, 9, 10])\n",
    "\n",
    "b = a.copy()\n",
    "b = b.reshape(len(b), 1)\n",
    "\n",
    "matrix_10x10 = a*b\n",
    "print('The multiplication matrix 10x10 is: \\n', matrix_10x10)\n",
    "\n",
    "trace = np.trace(matrix_10x10)\n",
    "print('\\nThe trace of the matrix is: ', trace)\n",
    "\n",
    "new_matrix = np.flip(matrix_10x10, axis = 1)\n",
    "print('\\nThe anti-diagonal is: \\n', np.diagonal(new_matrix))\n",
    "\n",
    "print('\\nThe diagonal by an offset 1 is: \\n', np.diagonal(matrix_10x10, 1))"
   ]
  },
  {
   "cell_type": "markdown",
   "metadata": {},
   "source": [
    "6\\. **Broadcasting**\n",
    "\n",
    "Use broadcasting to create a grid of distances.\n",
    "\n",
    "Route 66 crosses the following cities in the US: Chicago, Springfield, Saint-Louis, Tulsa, Oklahoma City, Amarillo, Santa Fe, Albuquerque, Flagstaff, Los Angeles.\n",
    "\n",
    "The corresponding positions in miles are: `0, 198, 303, 736, 871, 1175, 1475, 1544, 1913, 2448`\n",
    "\n",
    "  * Build a 2D grid of distances among each city along Route 66\n",
    "  * Convert the distances in km"
   ]
  },
  {
   "cell_type": "code",
   "execution_count": 111,
   "metadata": {},
   "outputs": [
    {
     "name": "stdout",
     "output_type": "stream",
     "text": [
      "[[    0   198   303   736   871  1175  1475  1544  1913  2448]\n",
      " [ -198     0   105   538   673   977  1277  1346  1715  2250]\n",
      " [ -303  -105     0   433   568   872  1172  1241  1610  2145]\n",
      " [ -736  -538  -433     0   135   439   739   808  1177  1712]\n",
      " [ -871  -673  -568  -135     0   304   604   673  1042  1577]\n",
      " [-1175  -977  -872  -439  -304     0   300   369   738  1273]\n",
      " [-1475 -1277 -1172  -739  -604  -300     0    69   438   973]\n",
      " [-1544 -1346 -1241  -808  -673  -369   -69     0   369   904]\n",
      " [-1913 -1715 -1610 -1177 -1042  -738  -438  -369     0   535]\n",
      " [-2448 -2250 -2145 -1712 -1577 -1273  -973  -904  -535     0]]\n",
      "The matrix converted in kms is: \n",
      " [[    0.        318.64932   487.63002  1184.47424  1401.73514  1890.9745\n",
      "   2373.7765   2484.82096  3078.66742  3939.66432]\n",
      " [ -318.64932     0.        168.9807    865.82492  1083.08582  1572.32518\n",
      "   2055.12718  2166.17164  2760.0181   3621.015  ]\n",
      " [ -487.63002  -168.9807      0.        696.84422   914.10512  1403.34448\n",
      "   1886.14648  1997.19094  2591.0374   3452.0343 ]\n",
      " [-1184.47424  -865.82492  -696.84422     0.        217.2609    706.50026\n",
      "   1189.30226  1300.34672  1894.19318  2755.19008]\n",
      " [-1401.73514 -1083.08582  -914.10512  -217.2609      0.        489.23936\n",
      "    972.04136  1083.08582  1676.93228  2537.92918]\n",
      " [-1890.9745  -1572.32518 -1403.34448  -706.50026  -489.23936     0.\n",
      "    482.802     593.84646  1187.69292  2048.68982]\n",
      " [-2373.7765  -2055.12718 -1886.14648 -1189.30226  -972.04136  -482.802\n",
      "      0.        111.04446   704.89092  1565.88782]\n",
      " [-2484.82096 -2166.17164 -1997.19094 -1300.34672 -1083.08582  -593.84646\n",
      "   -111.04446     0.        593.84646  1454.84336]\n",
      " [-3078.66742 -2760.0181  -2591.0374  -1894.19318 -1676.93228 -1187.69292\n",
      "   -704.89092  -593.84646     0.        860.9969 ]\n",
      " [-3939.66432 -3621.015   -3452.0343  -2755.19008 -2537.92918 -2048.68982\n",
      "  -1565.88782 -1454.84336  -860.9969      0.     ]]\n"
     ]
    }
   ],
   "source": [
    "import numpy as np \n",
    "\n",
    "distances_array = np.array([0, 198, 303, 736, 871, 1175, 1475, 1544, 1913, 2448])\n",
    "distances_array_vertical = distances_array.reshape(len(distances_array), 1)\n",
    "\n",
    "matrix_miles = distances_array - distances_array_vertical #the sign '-'or '+' can be seen as the direction along the Route66\n",
    "#matrix_miles = abs(distances_array - distances_array_vertical) #if you want to see the matrix with absoulute values\n",
    "print(matrix_miles)\n",
    "\n",
    "matrix_kms = 1.60934*matrix_miles\n",
    "print('The matrix converted in kms is: \\n', matrix_kms)"
   ]
  },
  {
   "cell_type": "markdown",
   "metadata": {},
   "source": [
    "7\\. **Prime numbers sieve**\n",
    "\n",
    "Compute the prime numbers in the 0-N (start with N=99) range with a sieve (mask).\n",
    "\n",
    "  * Construct a shape (N,) boolean array, which is the mask\n",
    "  * Identify the multiples of each number starting from 2 and set accordingly the corresponding mask element\n",
    "  * Apply the mask to obtain an array of ordered prime numbers\n",
    "  * Check the performances (with `timeit`); how does it scale with N?\n",
    "  * Implement the optimization suggested in the [sieve of Eratosthenes](https://en.wikipedia.org/wiki/Sieve_of_Eratosthenes)"
   ]
  },
  {
   "cell_type": "code",
   "execution_count": null,
   "metadata": {},
   "outputs": [],
   "source": []
  },
  {
   "cell_type": "markdown",
   "metadata": {},
   "source": [
    "8\\. **Diffusion using random walk**\n",
    "\n",
    "Consider a simple random walk process: at each step in time, a walker jumps right or left (+1 or -1) with equal probability. The goal is to find the typical distance from the origin of many random walkers after a given amount of time.\n",
    "\n",
    "*Hint*: create a 2D array where each row represents a walker, and each column represents a time step.\n",
    "\n",
    "  * Take 1000 walkers and let them walk for 200 steps\n",
    "  * Use `randint` to create a 2D array of size $walkers \\times steps$ with values -1 or 1\n",
    "  * Calculate the walking distances for each walker (e.g. by summing the elements in each row)\n",
    "  * Take the square of the previously-obtained array (element-wise)\n",
    "  * Compute the mean of the squared distances at each step (i.e. the mean along the columns)\n",
    "  * **Optional**: plot the average distances ($\\sqrt(distance^2)$) as a function of time (step)"
   ]
  },
  {
   "cell_type": "code",
   "execution_count": null,
   "metadata": {},
   "outputs": [],
   "source": []
  }
 ],
 "metadata": {
  "kernelspec": {
   "display_name": "Python 3 (ipykernel)",
   "language": "python",
   "name": "python3"
  },
  "language_info": {
   "codemirror_mode": {
    "name": "ipython",
    "version": 3
   },
   "file_extension": ".py",
   "mimetype": "text/x-python",
   "name": "python",
   "nbconvert_exporter": "python",
   "pygments_lexer": "ipython3",
   "version": "3.11.5"
  }
 },
 "nbformat": 4,
 "nbformat_minor": 2
}
