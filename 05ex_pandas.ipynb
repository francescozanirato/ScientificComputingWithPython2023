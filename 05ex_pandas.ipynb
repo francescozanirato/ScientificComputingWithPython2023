{
 "cells": [
  {
   "cell_type": "markdown",
   "metadata": {},
   "source": [
    "1\\. **Pandas DataFrame**\n",
    "\n",
    "This exercise consists in analyzing a dataset containg timing information from a series of Time-to-Digital-Converters (TDC) implemented in a pair of FPGAs. Each measurement (i.e. each row of the input file) consists of a flag that specifies the type of message ('HEAD', which in this case is always 1), two addresses of the TDC providing the signal ('FPGA' and 'TDC_CHANNEL'), and the timing information ('ORBIT_CNT', 'BX_COUNTER', and 'TDC_MEAS'). Each TDC count corresponds to 25/30 ns, whereas a unit of BX_COUNTER corresponds to 25 ns, and the ORBIT_CNT is increased every `x` BX_COUNTER. This allows to store the time in a similar way to hours, minutes and seconds."
   ]
  },
  {
   "cell_type": "code",
   "execution_count": 1,
   "metadata": {},
   "outputs": [
    {
     "name": "stdout",
     "output_type": "stream",
     "text": [
      "--2023-12-07 22:34:21--  https://www.dropbox.com/s/xvjzaxzz3ysphme/data_000637.txt\n",
      "Risoluzione di www.dropbox.com (www.dropbox.com)... 162.125.69.18\n",
      "Connessione a www.dropbox.com (www.dropbox.com)|162.125.69.18|:443... connesso.\n",
      "Richiesta HTTP inviata, in attesa di risposta... 302 Found\n",
      "Posizione: /s/raw/xvjzaxzz3ysphme/data_000637.txt [segue]\n",
      "--2023-12-07 22:34:22--  https://www.dropbox.com/s/raw/xvjzaxzz3ysphme/data_000637.txt\n",
      "Riutilizzo della connessione esistente a www.dropbox.com:443.\n",
      "Richiesta HTTP inviata, in attesa di risposta... 302 Found\n",
      "Posizione: https://uc0f1d17b3a16ae312df7c1f59cb.dl.dropboxusercontent.com/cd/0/inline/CI8AeLoTeBL7mEqPtObj12yJGc4zpsJsZ7kv48nY5JG-2W6OoBEDMAeKPcrd0iszi5nbT5ckgi56hXl1iFK8L7QvZE55jLesRRdVptRAB63e77YvN1K0pl_Mch3r2CS5vSQ/file# [segue]\n",
      "--2023-12-07 22:34:22--  https://uc0f1d17b3a16ae312df7c1f59cb.dl.dropboxusercontent.com/cd/0/inline/CI8AeLoTeBL7mEqPtObj12yJGc4zpsJsZ7kv48nY5JG-2W6OoBEDMAeKPcrd0iszi5nbT5ckgi56hXl1iFK8L7QvZE55jLesRRdVptRAB63e77YvN1K0pl_Mch3r2CS5vSQ/file\n",
      "Risoluzione di uc0f1d17b3a16ae312df7c1f59cb.dl.dropboxusercontent.com (uc0f1d17b3a16ae312df7c1f59cb.dl.dropboxusercontent.com)... 162.125.69.15\n",
      "Connessione a uc0f1d17b3a16ae312df7c1f59cb.dl.dropboxusercontent.com (uc0f1d17b3a16ae312df7c1f59cb.dl.dropboxusercontent.com)|162.125.69.15|:443... connesso.\n",
      "Richiesta HTTP inviata, in attesa di risposta... 200 OK\n",
      "Lunghezza: 33179236 (32M) [text/plain]\n",
      "Salvataggio in: «./data/data_000637.txt.1»\n",
      "\n",
      "data_000637.txt.1   100%[===================>]  31,64M  1,28MB/s    in 18s     \n",
      "\n",
      "2023-12-07 22:34:41 (1,78 MB/s) - «./data/data_000637.txt.1» salvato [33179236/33179236]\n",
      "\n"
     ]
    }
   ],
   "source": [
    "# If haven't downloaded it yet, please get the data file with wget\n",
    "!wget https://www.dropbox.com/s/xvjzaxzz3ysphme/data_000637.txt -P ./data/"
   ]
  },
  {
   "cell_type": "markdown",
   "metadata": {},
   "source": [
    "1\\. Create a Pandas DataFrame reading N rows of the `data/data_000637.txt` dataset. Choose N to be smaller than or equal to the maximum number of rows and larger that 10k (check the documentation)."
   ]
  },
  {
   "cell_type": "code",
   "execution_count": 2,
   "metadata": {},
   "outputs": [
    {
     "data": {
      "text/html": [
       "<div>\n",
       "<style scoped>\n",
       "    .dataframe tbody tr th:only-of-type {\n",
       "        vertical-align: middle;\n",
       "    }\n",
       "\n",
       "    .dataframe tbody tr th {\n",
       "        vertical-align: top;\n",
       "    }\n",
       "\n",
       "    .dataframe thead th {\n",
       "        text-align: right;\n",
       "    }\n",
       "</style>\n",
       "<table border=\"1\" class=\"dataframe\">\n",
       "  <thead>\n",
       "    <tr style=\"text-align: right;\">\n",
       "      <th></th>\n",
       "      <th>HEAD</th>\n",
       "      <th>FPGA</th>\n",
       "      <th>TDC_CHANNEL</th>\n",
       "      <th>ORBIT_CNT</th>\n",
       "      <th>BX_COUNTER</th>\n",
       "      <th>TDC_MEAS</th>\n",
       "    </tr>\n",
       "  </thead>\n",
       "  <tbody>\n",
       "    <tr>\n",
       "      <th>0</th>\n",
       "      <td>1</td>\n",
       "      <td>0</td>\n",
       "      <td>123</td>\n",
       "      <td>3869200167</td>\n",
       "      <td>2374</td>\n",
       "      <td>26</td>\n",
       "    </tr>\n",
       "    <tr>\n",
       "      <th>1</th>\n",
       "      <td>1</td>\n",
       "      <td>0</td>\n",
       "      <td>124</td>\n",
       "      <td>3869200167</td>\n",
       "      <td>2374</td>\n",
       "      <td>27</td>\n",
       "    </tr>\n",
       "    <tr>\n",
       "      <th>2</th>\n",
       "      <td>1</td>\n",
       "      <td>0</td>\n",
       "      <td>63</td>\n",
       "      <td>3869200167</td>\n",
       "      <td>2553</td>\n",
       "      <td>28</td>\n",
       "    </tr>\n",
       "    <tr>\n",
       "      <th>3</th>\n",
       "      <td>1</td>\n",
       "      <td>0</td>\n",
       "      <td>64</td>\n",
       "      <td>3869200167</td>\n",
       "      <td>2558</td>\n",
       "      <td>19</td>\n",
       "    </tr>\n",
       "    <tr>\n",
       "      <th>4</th>\n",
       "      <td>1</td>\n",
       "      <td>0</td>\n",
       "      <td>64</td>\n",
       "      <td>3869200167</td>\n",
       "      <td>2760</td>\n",
       "      <td>25</td>\n",
       "    </tr>\n",
       "    <tr>\n",
       "      <th>...</th>\n",
       "      <td>...</td>\n",
       "      <td>...</td>\n",
       "      <td>...</td>\n",
       "      <td>...</td>\n",
       "      <td>...</td>\n",
       "      <td>...</td>\n",
       "    </tr>\n",
       "    <tr>\n",
       "      <th>49996</th>\n",
       "      <td>1</td>\n",
       "      <td>1</td>\n",
       "      <td>4</td>\n",
       "      <td>3869200664</td>\n",
       "      <td>1105</td>\n",
       "      <td>14</td>\n",
       "    </tr>\n",
       "    <tr>\n",
       "      <th>49997</th>\n",
       "      <td>1</td>\n",
       "      <td>0</td>\n",
       "      <td>59</td>\n",
       "      <td>3869200664</td>\n",
       "      <td>1191</td>\n",
       "      <td>17</td>\n",
       "    </tr>\n",
       "    <tr>\n",
       "      <th>49998</th>\n",
       "      <td>1</td>\n",
       "      <td>0</td>\n",
       "      <td>32</td>\n",
       "      <td>3869200664</td>\n",
       "      <td>1191</td>\n",
       "      <td>1</td>\n",
       "    </tr>\n",
       "    <tr>\n",
       "      <th>49999</th>\n",
       "      <td>1</td>\n",
       "      <td>0</td>\n",
       "      <td>60</td>\n",
       "      <td>3869200664</td>\n",
       "      <td>1190</td>\n",
       "      <td>6</td>\n",
       "    </tr>\n",
       "    <tr>\n",
       "      <th>50000</th>\n",
       "      <td>1</td>\n",
       "      <td>0</td>\n",
       "      <td>63</td>\n",
       "      <td>3869200664</td>\n",
       "      <td>1195</td>\n",
       "      <td>27</td>\n",
       "    </tr>\n",
       "  </tbody>\n",
       "</table>\n",
       "<p>50001 rows × 6 columns</p>\n",
       "</div>"
      ],
      "text/plain": [
       "       HEAD  FPGA  TDC_CHANNEL   ORBIT_CNT  BX_COUNTER  TDC_MEAS\n",
       "0         1     0          123  3869200167        2374        26\n",
       "1         1     0          124  3869200167        2374        27\n",
       "2         1     0           63  3869200167        2553        28\n",
       "3         1     0           64  3869200167        2558        19\n",
       "4         1     0           64  3869200167        2760        25\n",
       "...     ...   ...          ...         ...         ...       ...\n",
       "49996     1     1            4  3869200664        1105        14\n",
       "49997     1     0           59  3869200664        1191        17\n",
       "49998     1     0           32  3869200664        1191         1\n",
       "49999     1     0           60  3869200664        1190         6\n",
       "50000     1     0           63  3869200664        1195        27\n",
       "\n",
       "[50001 rows x 6 columns]"
      ]
     },
     "execution_count": 2,
     "metadata": {},
     "output_type": "execute_result"
    }
   ],
   "source": [
    "import pandas as pd\n",
    "import numpy as np\n",
    "\n",
    "n = int(50001)\n",
    "\n",
    "file_name = \"./data/data_000637.txt\"\n",
    "data = pd.read_csv(file_name)\n",
    "\n",
    "df = pd.DataFrame(data)\n",
    "subset = df.iloc[0:n]\n",
    "subset"
   ]
  },
  {
   "cell_type": "markdown",
   "metadata": {},
   "source": [
    "2\\. Estimate the number of BX in a ORBIT (the value `x`).\n",
    "\n",
    "*Hint*: check when the BX counter reaches the maximum value before being reset to 0."
   ]
  },
  {
   "cell_type": "code",
   "execution_count": 3,
   "metadata": {},
   "outputs": [
    {
     "name": "stdout",
     "output_type": "stream",
     "text": [
      "The expected number of BX in ORBIT is:  3564\n"
     ]
    }
   ],
   "source": [
    "mask = subset['BX_COUNTER'] == 0\n",
    "min_indeces = subset[mask].index\n",
    "#print('\\nThe indeces for which BX_COUNTER is zero are: \\n', min_indeces)\n",
    "\n",
    "max_indeces = min_indeces - 1\n",
    "maximum_BX = subset.loc[max_indeces, 'BX_COUNTER']\n",
    "#print('\\nThe values of BX before the reset to zero are:\\n', maximum_BX)\n",
    "#print('\\nThe maximum among them is: \\n', np.max(maximum_BX))\n",
    "\n",
    "x = np.max(maximum_BX) + 1\n",
    "print('The expected number of BX in ORBIT is: ', x)\n"
   ]
  },
  {
   "cell_type": "markdown",
   "metadata": {},
   "source": [
    "3\\. Create a new column with the absolute time in ns (as a combination of the other three columns with timing information) since the beginning of the data acquisition, and convert the new column to a Time Series.\n",
    "\n",
    "*Hint:* introduce an offset to the absolute time such that the start of the data acquisition (i.e. the first entry) is zero."
   ]
  },
  {
   "cell_type": "code",
   "execution_count": 4,
   "metadata": {},
   "outputs": [
    {
     "name": "stderr",
     "output_type": "stream",
     "text": [
      "/var/folders/gk/x5js395j2q5g485hthdhw0l80000gn/T/ipykernel_30435/1500992376.py:1: SettingWithCopyWarning: \n",
      "A value is trying to be set on a copy of a slice from a DataFrame.\n",
      "Try using .loc[row_indexer,col_indexer] = value instead\n",
      "\n",
      "See the caveats in the documentation: https://pandas.pydata.org/pandas-docs/stable/user_guide/indexing.html#returning-a-view-versus-a-copy\n",
      "  subset['ABSOLUTE TIME [ns]'] = subset['TDC_MEAS']*25/30 + subset['BX_COUNTER']*25 + subset['ORBIT_CNT']*x*25\n",
      "/var/folders/gk/x5js395j2q5g485hthdhw0l80000gn/T/ipykernel_30435/1500992376.py:5: SettingWithCopyWarning: \n",
      "A value is trying to be set on a copy of a slice from a DataFrame.\n",
      "Try using .loc[row_indexer,col_indexer] = value instead\n",
      "\n",
      "See the caveats in the documentation: https://pandas.pydata.org/pandas-docs/stable/user_guide/indexing.html#returning-a-view-versus-a-copy\n",
      "  subset['ABSOLUTE TIME [ns]'] = subset['ABSOLUTE TIME [ns]'] - first_time\n"
     ]
    },
    {
     "data": {
      "text/html": [
       "<div>\n",
       "<style scoped>\n",
       "    .dataframe tbody tr th:only-of-type {\n",
       "        vertical-align: middle;\n",
       "    }\n",
       "\n",
       "    .dataframe tbody tr th {\n",
       "        vertical-align: top;\n",
       "    }\n",
       "\n",
       "    .dataframe thead th {\n",
       "        text-align: right;\n",
       "    }\n",
       "</style>\n",
       "<table border=\"1\" class=\"dataframe\">\n",
       "  <thead>\n",
       "    <tr style=\"text-align: right;\">\n",
       "      <th></th>\n",
       "      <th>HEAD</th>\n",
       "      <th>FPGA</th>\n",
       "      <th>TDC_CHANNEL</th>\n",
       "      <th>ORBIT_CNT</th>\n",
       "      <th>BX_COUNTER</th>\n",
       "      <th>TDC_MEAS</th>\n",
       "      <th>ABSOLUTE TIME [ns]</th>\n",
       "    </tr>\n",
       "  </thead>\n",
       "  <tbody>\n",
       "    <tr>\n",
       "      <th>0</th>\n",
       "      <td>1</td>\n",
       "      <td>0</td>\n",
       "      <td>123</td>\n",
       "      <td>3869200167</td>\n",
       "      <td>2374</td>\n",
       "      <td>26</td>\n",
       "      <td>0.000000e+00</td>\n",
       "    </tr>\n",
       "    <tr>\n",
       "      <th>1</th>\n",
       "      <td>1</td>\n",
       "      <td>0</td>\n",
       "      <td>124</td>\n",
       "      <td>3869200167</td>\n",
       "      <td>2374</td>\n",
       "      <td>27</td>\n",
       "      <td>8.125000e-01</td>\n",
       "    </tr>\n",
       "    <tr>\n",
       "      <th>2</th>\n",
       "      <td>1</td>\n",
       "      <td>0</td>\n",
       "      <td>63</td>\n",
       "      <td>3869200167</td>\n",
       "      <td>2553</td>\n",
       "      <td>28</td>\n",
       "      <td>4.476625e+03</td>\n",
       "    </tr>\n",
       "    <tr>\n",
       "      <th>3</th>\n",
       "      <td>1</td>\n",
       "      <td>0</td>\n",
       "      <td>64</td>\n",
       "      <td>3869200167</td>\n",
       "      <td>2558</td>\n",
       "      <td>19</td>\n",
       "      <td>4.594125e+03</td>\n",
       "    </tr>\n",
       "    <tr>\n",
       "      <th>4</th>\n",
       "      <td>1</td>\n",
       "      <td>0</td>\n",
       "      <td>64</td>\n",
       "      <td>3869200167</td>\n",
       "      <td>2760</td>\n",
       "      <td>25</td>\n",
       "      <td>9.649125e+03</td>\n",
       "    </tr>\n",
       "    <tr>\n",
       "      <th>...</th>\n",
       "      <td>...</td>\n",
       "      <td>...</td>\n",
       "      <td>...</td>\n",
       "      <td>...</td>\n",
       "      <td>...</td>\n",
       "      <td>...</td>\n",
       "      <td>...</td>\n",
       "    </tr>\n",
       "    <tr>\n",
       "      <th>49996</th>\n",
       "      <td>1</td>\n",
       "      <td>1</td>\n",
       "      <td>4</td>\n",
       "      <td>3869200664</td>\n",
       "      <td>1105</td>\n",
       "      <td>14</td>\n",
       "      <td>4.425096e+07</td>\n",
       "    </tr>\n",
       "    <tr>\n",
       "      <th>49997</th>\n",
       "      <td>1</td>\n",
       "      <td>0</td>\n",
       "      <td>59</td>\n",
       "      <td>3869200664</td>\n",
       "      <td>1191</td>\n",
       "      <td>17</td>\n",
       "      <td>4.425312e+07</td>\n",
       "    </tr>\n",
       "    <tr>\n",
       "      <th>49998</th>\n",
       "      <td>1</td>\n",
       "      <td>0</td>\n",
       "      <td>32</td>\n",
       "      <td>3869200664</td>\n",
       "      <td>1191</td>\n",
       "      <td>1</td>\n",
       "      <td>4.425310e+07</td>\n",
       "    </tr>\n",
       "    <tr>\n",
       "      <th>49999</th>\n",
       "      <td>1</td>\n",
       "      <td>0</td>\n",
       "      <td>60</td>\n",
       "      <td>3869200664</td>\n",
       "      <td>1190</td>\n",
       "      <td>6</td>\n",
       "      <td>4.425308e+07</td>\n",
       "    </tr>\n",
       "    <tr>\n",
       "      <th>50000</th>\n",
       "      <td>1</td>\n",
       "      <td>0</td>\n",
       "      <td>63</td>\n",
       "      <td>3869200664</td>\n",
       "      <td>1195</td>\n",
       "      <td>27</td>\n",
       "      <td>4.425323e+07</td>\n",
       "    </tr>\n",
       "  </tbody>\n",
       "</table>\n",
       "<p>50001 rows × 7 columns</p>\n",
       "</div>"
      ],
      "text/plain": [
       "       HEAD  FPGA  TDC_CHANNEL   ORBIT_CNT  BX_COUNTER  TDC_MEAS  \\\n",
       "0         1     0          123  3869200167        2374        26   \n",
       "1         1     0          124  3869200167        2374        27   \n",
       "2         1     0           63  3869200167        2553        28   \n",
       "3         1     0           64  3869200167        2558        19   \n",
       "4         1     0           64  3869200167        2760        25   \n",
       "...     ...   ...          ...         ...         ...       ...   \n",
       "49996     1     1            4  3869200664        1105        14   \n",
       "49997     1     0           59  3869200664        1191        17   \n",
       "49998     1     0           32  3869200664        1191         1   \n",
       "49999     1     0           60  3869200664        1190         6   \n",
       "50000     1     0           63  3869200664        1195        27   \n",
       "\n",
       "       ABSOLUTE TIME [ns]  \n",
       "0            0.000000e+00  \n",
       "1            8.125000e-01  \n",
       "2            4.476625e+03  \n",
       "3            4.594125e+03  \n",
       "4            9.649125e+03  \n",
       "...                   ...  \n",
       "49996        4.425096e+07  \n",
       "49997        4.425312e+07  \n",
       "49998        4.425310e+07  \n",
       "49999        4.425308e+07  \n",
       "50000        4.425323e+07  \n",
       "\n",
       "[50001 rows x 7 columns]"
      ]
     },
     "execution_count": 4,
     "metadata": {},
     "output_type": "execute_result"
    }
   ],
   "source": [
    "subset['ABSOLUTE TIME [ns]'] = subset['TDC_MEAS']*25/30 + subset['BX_COUNTER']*25 + subset['ORBIT_CNT']*x*25\n",
    "first_time = subset.loc[0, 'ABSOLUTE TIME [ns]']\n",
    "\n",
    "\n",
    "subset['ABSOLUTE TIME [ns]'] = subset['ABSOLUTE TIME [ns]'] - first_time\n",
    "subset\n"
   ]
  },
  {
   "cell_type": "markdown",
   "metadata": {},
   "source": [
    "4\\. Find out the duration of the data taking in hours, minutes and seconds, by using the features of the Time Series. Perform this check reading the whole dataset."
   ]
  },
  {
   "cell_type": "code",
   "execution_count": 5,
   "metadata": {},
   "outputs": [
    {
     "name": "stdout",
     "output_type": "stream",
     "text": [
      "44253225.8125\n",
      "0 days 00:00:00.044253225\n"
     ]
    }
   ],
   "source": [
    "higher_absolute = np.max(subset['ABSOLUTE TIME [ns]'])\n",
    "print(higher_absolute)\n",
    "print(pd.to_timedelta(higher_absolute, unit='ns'))"
   ]
  },
  {
   "cell_type": "markdown",
   "metadata": {},
   "source": [
    "5\\. Use the `.groupby()` method to find out the noisy channels, i.e. the TDC channels with most counts (print to screen the top 3 and the corresponding counts)"
   ]
  },
  {
   "cell_type": "code",
   "execution_count": 6,
   "metadata": {},
   "outputs": [
    {
     "name": "stdout",
     "output_type": "stream",
     "text": [
      "Channel number:  139  -----> 4175  times\n",
      "Channel number:  64  -----> 2523  times\n",
      "Channel number:  63  -----> 2473  times\n"
     ]
    }
   ],
   "source": [
    "ranking = subset.groupby('TDC_CHANNEL').count()['HEAD']\n",
    "sorted_ranking = ranking.sort_values(ascending=False)\n",
    "most_noisy = sorted_ranking.iloc[0:3]\n",
    "\n",
    "\n",
    "for channel, amount in zip(most_noisy.index, most_noisy.values):\n",
    "    print('Channel number: ', channel, ' ----->', amount, ' times')\n"
   ]
  },
  {
   "cell_type": "markdown",
   "metadata": {},
   "source": [
    "6\\. Count the number of non-empty orbits (i.e. the number of orbits with at least one hit)."
   ]
  },
  {
   "cell_type": "code",
   "execution_count": 7,
   "metadata": {},
   "outputs": [
    {
     "name": "stdout",
     "output_type": "stream",
     "text": [
      "The number of non-empty orbits are:  498\n"
     ]
    }
   ],
   "source": [
    "non_empty_orbits = len(np.unique(subset['ORBIT_CNT']))\n",
    "print('The number of non-empty orbits are: ', non_empty_orbits)"
   ]
  },
  {
   "cell_type": "markdown",
   "metadata": {},
   "source": [
    "7\\. Count the number of unique orbits with at least one measurement from TDC_CHANNEL=139."
   ]
  },
  {
   "cell_type": "code",
   "execution_count": 8,
   "metadata": {},
   "outputs": [
    {
     "name": "stdout",
     "output_type": "stream",
     "text": [
      "The number of unique orbits with at least one measurement from TDC_CHANNEL = 139 is:  498\n"
     ]
    }
   ],
   "source": [
    "channels = subset.groupby('TDC_CHANNEL')\n",
    "group_139 = len(np.unique(channels.get_group(139)['ORBIT_CNT']))\n",
    "print('The number of unique orbits with at least one measurement from TDC_CHANNEL = 139 is: ', group_139)"
   ]
  },
  {
   "cell_type": "markdown",
   "metadata": {},
   "source": [
    "8\\. Create two Series (one for each FPGA) that have the TDC channel as index, and the number of counts for the corresponding TDC channel as values."
   ]
  },
  {
   "cell_type": "code",
   "execution_count": 9,
   "metadata": {},
   "outputs": [
    {
     "name": "stdout",
     "output_type": "stream",
     "text": [
      "1        40\n",
      "2        56\n",
      "3        57\n",
      "4        72\n",
      "5        59\n",
      "       ... \n",
      "121     287\n",
      "122     274\n",
      "123     716\n",
      "124     682\n",
      "139    2915\n",
      "Length: 118, dtype: int64\n",
      "\n",
      "\n",
      "1      1078\n",
      "2      1218\n",
      "3       854\n",
      "4       993\n",
      "5       586\n",
      "       ... \n",
      "126      24\n",
      "127      47\n",
      "128      52\n",
      "130       1\n",
      "139    1260\n",
      "Length: 129, dtype: int64\n"
     ]
    }
   ],
   "source": [
    "fpgas = subset.groupby('FPGA')\n",
    "fpga_0 = fpgas.get_group(0)\n",
    "fpga_1 = fpgas.get_group(1)\n",
    "\n",
    "tdc_channels_0 = fpga_0['TDC_CHANNEL'].values\n",
    "tdc_channels_1 = fpga_1['TDC_CHANNEL'].values\n",
    "\n",
    "channels_0 = {}\n",
    "for channel in tdc_channels_0:\n",
    "    if channel in channels_0:\n",
    "        channels_0[channel] = channels_0[channel] + 1\n",
    "    else:\n",
    "        channels_0[channel] = 1\n",
    "channels_0 = sorted(channels_0.items(), key = lambda x: x[0], reverse = False)\n",
    "\n",
    "channels_1 = {}\n",
    "for channel in tdc_channels_1:\n",
    "    if channel in channels_1:\n",
    "        channels_1[channel] = channels_1[channel] + 1\n",
    "    else:\n",
    "        channels_1[channel] = 1\n",
    "channels_1 = sorted(channels_1.items(), key = lambda x: x[0], reverse = False)\n",
    "\n",
    "id_channel0 = []\n",
    "number_count0 = []\n",
    "for channel in channels_0:\n",
    "    id_channel0.append(channel[0])\n",
    "    number_count0.append(channel[1])\n",
    "    \n",
    "id_channel1 = []\n",
    "number_count1 = []\n",
    "for channel in channels_1:\n",
    "    id_channel1.append(channel[0])\n",
    "    number_count1.append(channel[1])\n",
    "\n",
    "serie_0 = pd.Series(number_count0, id_channel0)\n",
    "serie_1 = pd.Series(number_count1,id_channel1)\n",
    "print(serie_0)\n",
    "print('\\n')\n",
    "print(serie_1)\n"
   ]
  },
  {
   "cell_type": "markdown",
   "metadata": {},
   "source": [
    "9\\. **Optional:** Create two histograms (one for each FPGA) that show the number of counts for each TDC channel."
   ]
  },
  {
   "cell_type": "code",
   "execution_count": null,
   "metadata": {},
   "outputs": [],
   "source": []
  }
 ],
 "metadata": {
  "kernelspec": {
   "display_name": "Python 3 (ipykernel)",
   "language": "python",
   "name": "python3"
  },
  "language_info": {
   "codemirror_mode": {
    "name": "ipython",
    "version": 3
   },
   "file_extension": ".py",
   "mimetype": "text/x-python",
   "name": "python",
   "nbconvert_exporter": "python",
   "pygments_lexer": "ipython3",
   "version": "3.11.5"
  }
 },
 "nbformat": 4,
 "nbformat_minor": 2
}
