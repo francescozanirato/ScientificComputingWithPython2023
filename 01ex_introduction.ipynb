{
 "cells": [
  {
   "cell_type": "markdown",
   "metadata": {},
   "source": [
    "You can solve these exercises in the room or at home. For this week, and the next 3 weeks, exercises have to be solved by creating a single dedicated `.py` file called `01ex_introduction.py`.\n",
    "\n",
    "You can divide the individual exercises in the source code with appropriate comments (`#`).\n",
    "\n",
    "The exercises need to run without errors with `python3 01ex_introduction.py`."
   ]
  },
  {
   "cell_type": "markdown",
   "metadata": {},
   "source": [
    "1\\. **The HelloWorld replacement**\n",
    "\n",
    "a) Write a program that:\n",
    "- prints the numbers from 1 to 100\n",
    "- but for multiples of three print \"`Hello`\" instead of the number and for the multiples of five print \"`World`\"\n",
    "- for numbers which are multiples of both three and five print \"`HelloWorld`\".\n",
    "\n",
    "b) Put the result in a tuple and substitute \"`Hello`\" with \"`Python`\" and \"`World`\" with \"`Works`\"."
   ]
  },
  {
   "cell_type": "code",
   "execution_count": null,
   "metadata": {},
   "outputs": [],
   "source": [
    "numbers = [i for i in range(1,101)]\n",
    "#print(numbers)\n",
    "for i in range(len(numbers)):\n",
    "    if numbers[i] % 15 == 0:\n",
    "        numbers[i] = 'HelloWorld'\n",
    "    elif numbers[i] % 3 == 0:\n",
    "        numbers[i] = 'Hello'\n",
    "    elif numbers[i] % 5 == 0:\n",
    "        numbers[i] = 'World'\n",
    "  \n",
    "print(numbers)\n",
    "\n",
    "print('\\n\\n')\n",
    "\n",
    "numbers2 = numbers\n",
    "for i in range(len(numbers2)):\n",
    "    if numbers2[i] == 'Hello':\n",
    "        numbers2[i] = 'Python'\n",
    "    if numbers2[i] == 'World':\n",
    "        numbers2[i] = 'Wokrs'\n",
    "        \n",
    "numbers2 = tuple(numbers2)\n",
    "\n",
    "print(type(numbers2))\n",
    "print(numbers2)\n",
    "    "
   ]
  },
  {
   "cell_type": "markdown",
   "metadata": {},
   "source": [
    "2\\. **The swap**\n",
    "\n",
    "Write a program that swaps the values of two input variables `x` and `y` from command line (whatever the type).\n",
    "\n",
    "Try to do that without using a temporary variable, exploiting the Python syntax."
   ]
  },
  {
   "cell_type": "code",
   "execution_count": 2,
   "metadata": {},
   "outputs": [
    {
     "name": "stdout",
     "output_type": "stream",
     "text": [
      "x: Casa\n",
      "y: 10\n",
      "x ---->  10\n",
      "y ---->  Casa\n"
     ]
    }
   ],
   "source": [
    "x = input('x: ')\n",
    "y = input('y: ')\n",
    "\n",
    "x, y = y, x\n",
    "print('x ----> ', x)\n",
    "print('y ----> ', y)"
   ]
  },
  {
   "cell_type": "markdown",
   "metadata": {},
   "source": [
    "3\\. **Computing the distance**\n",
    "\n",
    "Write a program that calculates and prints the euclidean distance between two given points $u$ and $v$ in a 2D space, where $u$ and $v$ are both 2-tuples $(x,y)$.\n",
    "\n",
    "Example: if $u=(3,0)$ and $v=(0,4)$, the function should return $5$.\n",
    "\n",
    "*Hint:* in order to compute the square root, import the `math` library with `import math` and use `math.sqrt()`."
   ]
  },
  {
   "cell_type": "code",
   "execution_count": 16,
   "metadata": {},
   "outputs": [
    {
     "name": "stdout",
     "output_type": "stream",
     "text": [
      "7.0\n"
     ]
    }
   ],
   "source": [
    "import math\n",
    "\n",
    "u = (1,1)\n",
    "v = (8,1)\n",
    "\n",
    "distance = math.sqrt( (u[1]-u[0])**2 + (v[1]-v[0])**2 )\n",
    "print(distance)\n"
   ]
  },
  {
   "cell_type": "markdown",
   "metadata": {},
   "source": [
    "4\\. **Counting letters**\n",
    "\n",
    "Write a program that calculates the number of times each character occurs in a given string. Ignore differences in capitalization.\n",
    "\n",
    "The test strings are:"
   ]
  },
  {
   "cell_type": "code",
   "execution_count": 28,
   "metadata": {},
   "outputs": [
    {
     "name": "stdout",
     "output_type": "stream",
     "text": [
      "l appears --->  12 times\n",
      "c appears --->   1 times\n",
      "m appears --->   8 times\n",
      "f appears --->  10 times\n",
      "d appears --->   5 times\n",
      "0 appears --->   2 times\n",
      "b appears --->   5 times\n",
      "w appears --->   4 times\n",
      "p appears --->   8 times\n",
      "i appears --->  12 times\n",
      "  appears --->  41 times\n",
      "r appears --->  19 times\n",
      "u appears --->   7 times\n",
      "t appears --->  19 times\n",
      "o appears --->  15 times\n",
      ". appears --->   3 times\n",
      "n appears --->  10 times\n",
      "h appears --->  11 times\n",
      "s appears --->   7 times\n",
      "1 appears --->   2 times\n",
      "e appears --->  20 times\n",
      "g appears --->   1 times\n",
      "v appears --->   2 times\n",
      "a appears --->   7 times\n"
     ]
    }
   ],
   "source": [
    "s1 = \"Write a program that prints the numbers from 1 to 100. \\\n",
    "But for multiples of three print Hello instead of the number and for the multiples of five print World. \\\n",
    "For numbers which are multiples of both three and five print HelloWorld.\"\n",
    "s2 = \"The quick brown fox jumps over the lazy dog\"\n",
    "\n",
    "s1 = s1.lower()\n",
    "list_s1 = [i for i in s1]\n",
    "\n",
    "the_set = set({})\n",
    "#the_set = {}\n",
    "for character in list_s1:\n",
    "    the_set.add(character)\n",
    "\n",
    "#print(the_set)\n",
    "\n",
    "for c in the_set:\n",
    "    number = s1.count(c)\n",
    "    print(c + ' appears ---> %3d times' %number)"
   ]
  },
  {
   "cell_type": "markdown",
   "metadata": {},
   "source": [
    "5\\. **Isolating the unique**\n",
    "\n",
    "Write a program that determines and counts the unique numbers (numbers with only one occurrence) in the list:"
   ]
  },
  {
   "cell_type": "code",
   "execution_count": 38,
   "metadata": {},
   "outputs": [
    {
     "name": "stdout",
     "output_type": "stream",
     "text": [
      "37\n",
      "[58, 74, 96, 64, 10, 24, 19, 33, 86, 99, 18, 47, 88, 55, 54, 8, 79, 81, 57, 37, 1, 9, 95, 90, 98, 39, 16, 82, 92, 41, 30, 94, 5, 72, 87, 75, 53]\n"
     ]
    }
   ],
   "source": [
    "l = [36, 45, 58, 3, 74, 96, 64, 45, 31, 10, 24, 19, 33, 86, 99, 18, 63, 70, 85,\n",
    " 85, 63, 47, 56, 42, 70, 84, 88, 55, 20, 54, 8, 56, 51, 79, 81, 57, 37, 91,\n",
    " 1, 84, 84, 36, 66, 9, 89, 50, 42, 91, 50, 95, 90, 98, 39, 16, 82, 31, 92, 41,\n",
    " 45, 30, 66, 70, 34, 85, 94, 5, 3, 36, 72, 91, 84, 34, 87, 75, 53, 51, 20, 89, 51, 20]\n",
    "\n",
    "new_l = [str(i) for i in l]\n",
    "count = 0 \n",
    "uniques = []\n",
    "for number in new_l:\n",
    "    if new_l.count(number) == 1:\n",
    "        count = count + 1\n",
    "        uniques.append(int(number))\n",
    "print(count)\n",
    "print(uniques)"
   ]
  },
  {
   "cell_type": "markdown",
   "metadata": {},
   "source": [
    "Do the same exploiting only the Python data structures."
   ]
  },
  {
   "cell_type": "markdown",
   "metadata": {},
   "source": [
    "6\\. **Casting**\n",
    "\n",
    "Write a program that:\n",
    "* reads from command line two variables, that can be either `int`, `float`, or `str`.\n",
    "* use the `try`/`except` expressions to perform the addition of these two variables, only if possible\n",
    "* print the result without making the code crash for all the `int`/`float`/`str` input combinations."
   ]
  },
  {
   "cell_type": "code",
   "execution_count": 43,
   "metadata": {},
   "outputs": [
    {
     "name": "stdout",
     "output_type": "stream",
     "text": [
      "Inserisci la prima variabile: 13.2\n",
      "e ora la seconda: casello\n",
      "non posso sommarle\n"
     ]
    }
   ],
   "source": [
    "x = input('Inserisci la prima variabile: ')\n",
    "y = input('e ora la seconda: ')\n",
    "\n",
    "try:\n",
    "    z = float(x) + float(y) \n",
    "    print(z)\n",
    "except: \n",
    "    print('non posso sommarle')"
   ]
  },
  {
   "cell_type": "markdown",
   "metadata": {},
   "source": [
    "7\\. **Cubes**\n",
    "\n",
    "Create a list of the cubes of *x* for *x* in *[0, 10]* using:\n",
    "\n",
    "a) a for loop\n",
    "\n",
    "b) a list comprehension"
   ]
  },
  {
   "cell_type": "code",
   "execution_count": 44,
   "metadata": {},
   "outputs": [
    {
     "name": "stdout",
     "output_type": "stream",
     "text": [
      "[0, 1, 8, 27, 64, 125, 216, 343, 512, 729, 1000]\n"
     ]
    }
   ],
   "source": [
    "cubes = print([i**3 for i in range(11)])"
   ]
  },
  {
   "cell_type": "markdown",
   "metadata": {},
   "source": [
    "8\\. **List comprehension**\n",
    "\n",
    "Write, using the list comprehension, a single-line expression that gets the same result as the code in the cell below."
   ]
  },
  {
   "cell_type": "code",
   "execution_count": 45,
   "metadata": {},
   "outputs": [
    {
     "name": "stdout",
     "output_type": "stream",
     "text": [
      "[(0, 0), (0, 1), (0, 2), (0, 3), (1, 0), (1, 1), (1, 2), (1, 3), (2, 0), (2, 1), (2, 2), (2, 3)]\n"
     ]
    }
   ],
   "source": [
    "a = []\n",
    "for i in range(3):\n",
    "    for j in range(4):\n",
    "        a.append((i, j))\n",
    "print(a)"
   ]
  },
  {
   "cell_type": "code",
   "execution_count": 56,
   "metadata": {},
   "outputs": [
    {
     "name": "stdout",
     "output_type": "stream",
     "text": [
      "[(0, 0), (0, 1), (0, 2), (0, 3), (1, 0), (1, 1), (1, 2), (1, 3), (2, 0), (2, 1), (2, 2), (2, 3)]\n"
     ]
    }
   ],
   "source": [
    "a = [(i, j) for i in range(3) for j in range(4)]\n",
    "print(a)"
   ]
  },
  {
   "cell_type": "markdown",
   "metadata": {},
   "source": [
    "9\\. **Nested list comprehension**\n",
    "\n",
    "> A Pythagorean triple is an integer solution to the Pythagorean theorem $a^2+b^2=c^2$. The first Pythagorean triple is (3, 4, 5).\n",
    "\n",
    "Find and put in a tuple all unique Pythagorean triples for the positive integers $a$, $b$ and $c$ with $c < 100$."
   ]
  },
  {
   "cell_type": "markdown",
   "metadata": {},
   "source": [
    "10\\. **Normalization of a N-dimensional vector**\n",
    "\n",
    "Write a program that takes an N-dimensional vector, e.g. a variable-length tuple of numbers, and normalizes it to one (in such a way that the squared sum of all the entries is equal to 1)."
   ]
  },
  {
   "cell_type": "code",
   "execution_count": 62,
   "metadata": {},
   "outputs": [
    {
     "name": "stdout",
     "output_type": "stream",
     "text": [
      "[0.008993329423434254, 0.03597331769373702, 0.04496664711717127, -0.008993329423434254, 0.9982595660012021]\n"
     ]
    }
   ],
   "source": [
    "import math\n",
    "\n",
    "t = (1,4,5,-1,111)\n",
    "cumulative = 0\n",
    "for i in t:\n",
    "    cumulative = cumulative + i**2\n",
    "    \n",
    "sq = math.sqrt(cumulative)\n",
    "t1 = [t1/sq for t1 in t]\n",
    "print(t1)"
   ]
  },
  {
   "cell_type": "markdown",
   "metadata": {},
   "source": [
    "11\\. **The Fibonacci sequence**\n",
    "\n",
    "Calculate the first 20 numbers of the [Fibonacci sequence](https://en.wikipedia.org/wiki/Fibonacci_number) using only `for` or `while` loops."
   ]
  },
  {
   "cell_type": "code",
   "execution_count": 68,
   "metadata": {},
   "outputs": [
    {
     "name": "stdout",
     "output_type": "stream",
     "text": [
      "[0, 1, 1, 2, 3, 5, 8, 13, 21, 34, 55, 89, 144, 233, 377, 610, 987, 1597, 2584, 4181, 6765]\n",
      "[1, 1, 2, 3, 5, 8, 13, 21, 34, 55, 89, 144, 233, 377, 610, 987, 1597, 2584, 4181, 6765]\n",
      "[1, 2, 3, 5, 8, 13, 21, 34, 55, 89, 144, 233, 377, 610, 987, 1597, 2584, 4181, 6765]\n"
     ]
    }
   ],
   "source": [
    "seq = [0,1]\n",
    "for i in range(2, 21):\n",
    "    new = seq[-1] + seq[-2]\n",
    "    seq.append(new)\n",
    "    \n",
    "print(seq)\n",
    "seq.remove(0)\n",
    "print(seq)\n",
    "seq.remove(seq[0])\n",
    "print(seq)"
   ]
  },
  {
   "cell_type": "code",
   "execution_count": null,
   "metadata": {},
   "outputs": [],
   "source": []
  }
 ],
 "metadata": {
  "kernelspec": {
   "display_name": "Python 3 (ipykernel)",
   "language": "python",
   "name": "python3"
  },
  "language_info": {
   "codemirror_mode": {
    "name": "ipython",
    "version": 3
   },
   "file_extension": ".py",
   "mimetype": "text/x-python",
   "name": "python",
   "nbconvert_exporter": "python",
   "pygments_lexer": "ipython3",
   "version": "3.11.5"
  }
 },
 "nbformat": 4,
 "nbformat_minor": 4
}
